{
 "cells": [
  {
   "cell_type": "code",
   "execution_count": 1,
   "id": "48a6d179-48a6-435a-bc64-bd04d873f8e4",
   "metadata": {},
   "outputs": [
    {
     "name": "stdout",
     "output_type": "stream",
     "text": [
      "Defaulting to user installation because normal site-packages is not writeableNote: you may need to restart the kernel to use updated packages.\n",
      "\n",
      "Requirement already satisfied: opencv-python in c:\\users\\admin\\appdata\\roaming\\python\\python312\\site-packages (4.12.0.88)\n",
      "Requirement already satisfied: numpy<2.3.0,>=2 in c:\\users\\admin\\appdata\\roaming\\python\\python312\\site-packages (from opencv-python) (2.2.6)\n"
     ]
    }
   ],
   "source": [
    "pip install opencv-python"
   ]
  },
  {
   "cell_type": "code",
   "execution_count": 5,
   "id": "43d040da-6b94-4ecd-8724-9bfa02ab371f",
   "metadata": {},
   "outputs": [
    {
     "name": "stdin",
     "output_type": "stream",
     "text": [
      "🏷️ Enter label name (e.g., pen, bottle, dog):  bottle\n"
     ]
    },
    {
     "name": "stdout",
     "output_type": "stream",
     "text": [
      "✅ Webcam is ON\n",
      "📸 Press 's' to capture | Press 'q' to quit\n",
      "✅ Saved color image as: Data_Generation_for_DL\\Captured_Images\\bottle\\1.jpg\n",
      "✅ Saved B/W image as: Data_Generation_for_DL\\Black_and_white_Images\\bottle\\1.jpg\n",
      "✅ Saved color image as: Data_Generation_for_DL\\Captured_Images\\bottle\\2.jpg\n",
      "✅ Saved B/W image as: Data_Generation_for_DL\\Black_and_white_Images\\bottle\\2.jpg\n",
      "✅ Saved color image as: Data_Generation_for_DL\\Captured_Images\\bottle\\3.jpg\n",
      "✅ Saved B/W image as: Data_Generation_for_DL\\Black_and_white_Images\\bottle\\3.jpg\n",
      "✅ Saved color image as: Data_Generation_for_DL\\Captured_Images\\bottle\\4.jpg\n",
      "✅ Saved B/W image as: Data_Generation_for_DL\\Black_and_white_Images\\bottle\\4.jpg\n",
      "✅ Saved color image as: Data_Generation_for_DL\\Captured_Images\\bottle\\5.jpg\n",
      "✅ Saved B/W image as: Data_Generation_for_DL\\Black_and_white_Images\\bottle\\5.jpg\n",
      "✅ Saved color image as: Data_Generation_for_DL\\Captured_Images\\bottle\\6.jpg\n",
      "✅ Saved B/W image as: Data_Generation_for_DL\\Black_and_white_Images\\bottle\\6.jpg\n",
      "✅ Saved color image as: Data_Generation_for_DL\\Captured_Images\\bottle\\7.jpg\n",
      "✅ Saved B/W image as: Data_Generation_for_DL\\Black_and_white_Images\\bottle\\7.jpg\n",
      "✅ Saved color image as: Data_Generation_for_DL\\Captured_Images\\bottle\\8.jpg\n",
      "✅ Saved B/W image as: Data_Generation_for_DL\\Black_and_white_Images\\bottle\\8.jpg\n",
      "👋 Exiting...\n"
     ]
    }
   ],
   "source": [
    "import cv2\n",
    "import os\n",
    "\n",
    "# Base folders\n",
    "base_folder = \"Data_Generation_for_DL\"\n",
    "color_base = os.path.join(base_folder, \"Captured_Images\")\n",
    "bw_base = os.path.join(base_folder, \"Black_and_white_Images\")\n",
    "\n",
    "# Prompt for label\n",
    "label = input(\"🏷️ Enter label name (e.g., pen, bottle, dog): \").strip()\n",
    "\n",
    "if not label:\n",
    "    print(\"❌ No label provided. Exiting.\")\n",
    "    exit()\n",
    "\n",
    "# Define label-specific folders\n",
    "color_folder = os.path.join(color_base, label)\n",
    "bw_folder = os.path.join(bw_base, label)\n",
    "\n",
    "# Create directories if they don't exist\n",
    "os.makedirs(color_folder, exist_ok=True)\n",
    "os.makedirs(bw_folder, exist_ok=True)\n",
    "\n",
    "# Function to get next sequential number without gaps\n",
    "def get_next_filename(folder):\n",
    "    existing_files = sorted(\n",
    "        [int(f.split(\".\")[0]) for f in os.listdir(folder) if f.endswith(\".jpg\") and f.split(\".\")[0].isdigit()]\n",
    "    )\n",
    "    if not existing_files:\n",
    "        return 1\n",
    "    for i in range(1, existing_files[-1] + 2):  # check for first missing number\n",
    "        if i not in existing_files:\n",
    "            return i\n",
    "    return existing_files[-1] + 1\n",
    "\n",
    "# Open webcam\n",
    "cap = cv2.VideoCapture(0)\n",
    "if not cap.isOpened():\n",
    "    print(\"❌ Error: Cannot access the camera.\")\n",
    "    exit()\n",
    "\n",
    "print(\"✅ Webcam is ON\")\n",
    "print(\"📸 Press 's' to capture | Press 'q' to quit\")\n",
    "\n",
    "while True:\n",
    "    ret, frame = cap.read()\n",
    "    if not ret:\n",
    "        print(\"❌ Failed to grab frame.\")\n",
    "        break\n",
    "\n",
    "    # Show live video\n",
    "    display_frame = frame.copy()\n",
    "    height, width, _ = frame.shape\n",
    "\n",
    "    # Draw rectangle in the center (focus box)\n",
    "    box_size = 300\n",
    "    x1 = (width - box_size) // 2\n",
    "    y1 = (height - box_size) // 2\n",
    "    x2 = x1 + box_size\n",
    "    y2 = y1 + box_size\n",
    "    cv2.rectangle(display_frame, (x1, y1), (x2, y2), (0, 255, 0), 2)\n",
    "    cv2.imshow(\"Live Feed\", display_frame)\n",
    "\n",
    "    key = cv2.waitKey(1) & 0xFF\n",
    "\n",
    "    if key == ord('q'):\n",
    "        print(\"👋 Exiting...\")\n",
    "        break\n",
    "\n",
    "    elif key == ord('s'):\n",
    "        cropped = frame[y1:y2, x1:x2]\n",
    "        gray = cv2.cvtColor(cropped, cv2.COLOR_BGR2GRAY)\n",
    "\n",
    "        image_num = get_next_filename(color_folder)\n",
    "        color_path = os.path.join(color_folder, f\"{image_num}.jpg\")\n",
    "        bw_path = os.path.join(bw_folder, f\"{image_num}.jpg\")\n",
    "\n",
    "        cv2.imwrite(color_path, cropped)\n",
    "        cv2.imwrite(bw_path, gray)\n",
    "\n",
    "        print(f\"✅ Saved color image as: {color_path}\")\n",
    "        print(f\"✅ Saved B/W image as: {bw_path}\")\n",
    "\n",
    "# Cleanup\n",
    "cap.release()\n",
    "cv2.destroyAllWindows()\n"
   ]
  },
  {
   "cell_type": "code",
   "execution_count": null,
   "id": "dcc7b49e-3e73-4e8c-858a-344f277a2d2c",
   "metadata": {},
   "outputs": [],
   "source": []
  }
 ],
 "metadata": {
  "kernelspec": {
   "display_name": "Python [conda env:anaconda3]",
   "language": "python",
   "name": "conda-env-anaconda3-py"
  },
  "language_info": {
   "codemirror_mode": {
    "name": "ipython",
    "version": 3
   },
   "file_extension": ".py",
   "mimetype": "text/x-python",
   "name": "python",
   "nbconvert_exporter": "python",
   "pygments_lexer": "ipython3",
   "version": "3.12.7"
  }
 },
 "nbformat": 4,
 "nbformat_minor": 5
}
