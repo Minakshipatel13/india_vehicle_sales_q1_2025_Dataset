{
 "cells": [
  {
   "cell_type": "markdown",
   "id": "03b88252-2a2f-4de8-8d2a-9244f0b4b003",
   "metadata": {},
   "source": [
    "#  Data Analysis on india_vehicle_sales_q1_2025_Dataset"
   ]
  },
  {
   "cell_type": "markdown",
   "id": "afc9ee5a-2382-47e0-9462-84fc97159a70",
   "metadata": {},
   "source": [
    "## Dataset Information"
   ]
  },
  {
   "cell_type": "markdown",
   "id": "59b40a2a-579d-4607-aac1-639d9b92c4c2",
   "metadata": {},
   "source": [
    "### Columns of the dataset\n",
    "Sales_ID (int) – Unique identifier for each sale entry.\n",
    "\n",
    "Sale_Date (object/string) – Date on which the sale occurred.\n",
    "\n",
    "Vehicle_Type (object) – Category of vehicle sold (e.g., Car, SUV, Scooter).\n",
    "\n",
    "Price_Range (object) – Pricing category like Entry-Level or Premium.\n",
    "\n",
    "Sales_Volume (int) – Number of units sold in a transaction or grouping.\n",
    "\n",
    "Region (object) – Urban, Semi-Urban, or Rural classification.\n",
    "\n",
    "State (object) – Indian state where the sale was recorded.\n",
    "\n",
    "Income_Level (object) – Socioeconomic classification (Low, Medium, High).\n",
    "\n",
    "Monsoon_Index (float) – Rainfall-related index impacting sales.\n",
    "\n",
    "Repo_Rate (float) – Interest rate at the time of sale.\n",
    "\n",
    "Inventory_Days (int) – Days the vehicle stayed in inventory before sale.\n",
    "\n",
    "Export_Flag (bool) – Indicates whether the vehicle was exported.\n",
    "\n",
    "Export_Region (object) – Destination region for export (if applicable).\n",
    "\n",
    "Fuel_Type (object) – Type of fuel used (e.g., Petrol, Diesel, EV, Hybrid).\n",
    "\n",
    "Emission_Norm (object) – Emission compliance level (e.g., BS6).\n",
    "\n",
    "Discount_Percentage (float) – Discount offered during sale.\n",
    "\n",
    "Consumer_Sentiment (float) – Consumer confidence index at time of sale.\n",
    "\n",
    "Supply_Chain_Disruption (bool) – Whether supply chain issues were present.\n",
    "\n",
    "Festive_Season (bool) – Indicates if the sale occurred during a festive period.\n",
    "\n",
    "Vehicle_Model (object) – Model name of the vehicle sold. "
   ]
  },
  {
   "cell_type": "markdown",
   "id": "35cc0dc5-00a1-4b28-8e0b-9b93089ebdac",
   "metadata": {},
   "source": [
    "### IMPORT THE REQUIERED LIBRARIES"
   ]
  },
  {
   "cell_type": "code",
   "execution_count": 14,
   "id": "9f604e80-4e96-4359-a388-f21c711d5c9d",
   "metadata": {},
   "outputs": [
    {
     "name": "stdout",
     "output_type": "stream",
     "text": [
      "2.2.6\n"
     ]
    }
   ],
   "source": [
    "import numpy\n",
    "print(numpy.__version__)"
   ]
  },
  {
   "cell_type": "code",
   "execution_count": 26,
   "id": "cdb2f566-8d91-4856-9095-85d0f6b63e2c",
   "metadata": {},
   "outputs": [
    {
     "name": "stdout",
     "output_type": "stream",
     "text": [
      "C:\\ProgramData\\anaconda3\\python.exe\n",
      "C:\\Users\\Admin\\anaconda3\\python.exe\n",
      "C:\\Users\\Admin\\AppData\\Local\\Microsoft\\WindowsApps\\python.exe\n"
     ]
    },
    {
     "name": "stderr",
     "output_type": "stream",
     "text": [
      "INFO: Could not find \"#\".\n",
      "INFO: Could not find \"(Windows)\".\n"
     ]
    },
    {
     "name": "stdout",
     "output_type": "stream",
     "text": [
      "Defaulting to user installation because normal site-packages is not writeable\n",
      "Requirement already satisfied: numpy in c:\\users\\admin\\appdata\\roaming\\python\\python312\\site-packages (2.2.6)\n"
     ]
    }
   ],
   "source": [
    "!where python   # (Windows)\n",
    "!pip install numpy"
   ]
  },
  {
   "cell_type": "code",
   "execution_count": 27,
   "id": "f129010a-e885-406d-ad4a-327e0146b6a1",
   "metadata": {},
   "outputs": [
    {
     "name": "stderr",
     "output_type": "stream",
     "text": [
      "\n",
      "A module that was compiled using NumPy 1.x cannot be run in\n",
      "NumPy 2.2.6 as it may crash. To support both 1.x and 2.x\n",
      "versions of NumPy, modules must be compiled with NumPy 2.0.\n",
      "Some module may need to rebuild instead e.g. with 'pybind11>=2.12'.\n",
      "\n",
      "If you are a user of the module, the easiest solution will be to\n",
      "downgrade to 'numpy<2' or try to upgrade the affected module.\n",
      "We expect that some modules will need time to support NumPy 2.\n",
      "\n",
      "Traceback (most recent call last):  File \"<frozen runpy>\", line 198, in _run_module_as_main\n",
      "  File \"<frozen runpy>\", line 88, in _run_code\n",
      "  File \"C:\\ProgramData\\anaconda3\\Lib\\site-packages\\ipykernel_launcher.py\", line 17, in <module>\n",
      "    app.launch_new_instance()\n",
      "  File \"C:\\ProgramData\\anaconda3\\Lib\\site-packages\\traitlets\\config\\application.py\", line 1075, in launch_instance\n",
      "    app.start()\n",
      "  File \"C:\\ProgramData\\anaconda3\\Lib\\site-packages\\ipykernel\\kernelapp.py\", line 701, in start\n",
      "    self.io_loop.start()\n",
      "  File \"C:\\ProgramData\\anaconda3\\Lib\\site-packages\\tornado\\platform\\asyncio.py\", line 205, in start\n",
      "    self.asyncio_loop.run_forever()\n",
      "  File \"C:\\ProgramData\\anaconda3\\Lib\\asyncio\\windows_events.py\", line 322, in run_forever\n",
      "    super().run_forever()\n",
      "  File \"C:\\ProgramData\\anaconda3\\Lib\\asyncio\\base_events.py\", line 641, in run_forever\n",
      "    self._run_once()\n",
      "  File \"C:\\ProgramData\\anaconda3\\Lib\\asyncio\\base_events.py\", line 1986, in _run_once\n",
      "    handle._run()\n",
      "  File \"C:\\ProgramData\\anaconda3\\Lib\\asyncio\\events.py\", line 88, in _run\n",
      "    self._context.run(self._callback, *self._args)\n",
      "  File \"C:\\ProgramData\\anaconda3\\Lib\\site-packages\\ipykernel\\kernelbase.py\", line 534, in dispatch_queue\n",
      "    await self.process_one()\n",
      "  File \"C:\\ProgramData\\anaconda3\\Lib\\site-packages\\ipykernel\\kernelbase.py\", line 523, in process_one\n",
      "    await dispatch(*args)\n",
      "  File \"C:\\ProgramData\\anaconda3\\Lib\\site-packages\\ipykernel\\kernelbase.py\", line 429, in dispatch_shell\n",
      "    await result\n",
      "  File \"C:\\ProgramData\\anaconda3\\Lib\\site-packages\\ipykernel\\kernelbase.py\", line 767, in execute_request\n",
      "    reply_content = await reply_content\n",
      "  File \"C:\\ProgramData\\anaconda3\\Lib\\site-packages\\ipykernel\\ipkernel.py\", line 429, in do_execute\n",
      "    res = shell.run_cell(\n",
      "  File \"C:\\ProgramData\\anaconda3\\Lib\\site-packages\\ipykernel\\zmqshell.py\", line 549, in run_cell\n",
      "    return super().run_cell(*args, **kwargs)\n",
      "  File \"C:\\ProgramData\\anaconda3\\Lib\\site-packages\\IPython\\core\\interactiveshell.py\", line 3075, in run_cell\n",
      "    result = self._run_cell(\n",
      "  File \"C:\\ProgramData\\anaconda3\\Lib\\site-packages\\IPython\\core\\interactiveshell.py\", line 3130, in _run_cell\n",
      "    result = runner(coro)\n",
      "  File \"C:\\ProgramData\\anaconda3\\Lib\\site-packages\\IPython\\core\\async_helpers.py\", line 128, in _pseudo_sync_runner\n",
      "    coro.send(None)\n",
      "  File \"C:\\ProgramData\\anaconda3\\Lib\\site-packages\\IPython\\core\\interactiveshell.py\", line 3334, in run_cell_async\n",
      "    has_raised = await self.run_ast_nodes(code_ast.body, cell_name,\n",
      "  File \"C:\\ProgramData\\anaconda3\\Lib\\site-packages\\IPython\\core\\interactiveshell.py\", line 3517, in run_ast_nodes\n",
      "    if await self.run_code(code, result, async_=asy):\n",
      "  File \"C:\\ProgramData\\anaconda3\\Lib\\site-packages\\IPython\\core\\interactiveshell.py\", line 3577, in run_code\n",
      "    exec(code_obj, self.user_global_ns, self.user_ns)\n",
      "  File \"C:\\Users\\Admin\\AppData\\Local\\Temp\\ipykernel_5884\\575386198.py\", line 2, in <module>\n",
      "    import pandas as pd\n",
      "  File \"C:\\ProgramData\\anaconda3\\Lib\\site-packages\\pandas\\__init__.py\", line 49, in <module>\n",
      "    from pandas.core.api import (\n",
      "  File \"C:\\ProgramData\\anaconda3\\Lib\\site-packages\\pandas\\core\\api.py\", line 1, in <module>\n",
      "    from pandas._libs import (\n",
      "  File \"C:\\ProgramData\\anaconda3\\Lib\\site-packages\\pandas\\_libs\\__init__.py\", line 17, in <module>\n",
      "    import pandas._libs.pandas_datetime  # noqa: F401 # isort: skip # type: ignore[reportUnusedImport]\n"
     ]
    },
    {
     "ename": "ImportError",
     "evalue": "\nA module that was compiled using NumPy 1.x cannot be run in\nNumPy 2.2.6 as it may crash. To support both 1.x and 2.x\nversions of NumPy, modules must be compiled with NumPy 2.0.\nSome module may need to rebuild instead e.g. with 'pybind11>=2.12'.\n\nIf you are a user of the module, the easiest solution will be to\ndowngrade to 'numpy<2' or try to upgrade the affected module.\nWe expect that some modules will need time to support NumPy 2.\n\n",
     "output_type": "error",
     "traceback": [
      "\u001b[1;31m---------------------------------------------------------------------------\u001b[0m",
      "\u001b[1;31mImportError\u001b[0m                               Traceback (most recent call last)",
      "File \u001b[1;32m~\\AppData\\Roaming\\Python\\Python312\\site-packages\\numpy\\core\\_multiarray_umath.py:44\u001b[0m, in \u001b[0;36m__getattr__\u001b[1;34m(attr_name)\u001b[0m\n\u001b[0;32m     39\u001b[0m     \u001b[38;5;66;03m# Also print the message (with traceback).  This is because old versions\u001b[39;00m\n\u001b[0;32m     40\u001b[0m     \u001b[38;5;66;03m# of NumPy unfortunately set up the import to replace (and hide) the\u001b[39;00m\n\u001b[0;32m     41\u001b[0m     \u001b[38;5;66;03m# error.  The traceback shouldn't be needed, but e.g. pytest plugins\u001b[39;00m\n\u001b[0;32m     42\u001b[0m     \u001b[38;5;66;03m# seem to swallow it and we should be failing anyway...\u001b[39;00m\n\u001b[0;32m     43\u001b[0m     sys\u001b[38;5;241m.\u001b[39mstderr\u001b[38;5;241m.\u001b[39mwrite(msg \u001b[38;5;241m+\u001b[39m tb_msg)\n\u001b[1;32m---> 44\u001b[0m     \u001b[38;5;28;01mraise\u001b[39;00m \u001b[38;5;167;01mImportError\u001b[39;00m(msg)\n\u001b[0;32m     46\u001b[0m ret \u001b[38;5;241m=\u001b[39m \u001b[38;5;28mgetattr\u001b[39m(_multiarray_umath, attr_name, \u001b[38;5;28;01mNone\u001b[39;00m)\n\u001b[0;32m     47\u001b[0m \u001b[38;5;28;01mif\u001b[39;00m ret \u001b[38;5;129;01mis\u001b[39;00m \u001b[38;5;28;01mNone\u001b[39;00m:\n",
      "\u001b[1;31mImportError\u001b[0m: \nA module that was compiled using NumPy 1.x cannot be run in\nNumPy 2.2.6 as it may crash. To support both 1.x and 2.x\nversions of NumPy, modules must be compiled with NumPy 2.0.\nSome module may need to rebuild instead e.g. with 'pybind11>=2.12'.\n\nIf you are a user of the module, the easiest solution will be to\ndowngrade to 'numpy<2' or try to upgrade the affected module.\nWe expect that some modules will need time to support NumPy 2.\n\n"
     ]
    },
    {
     "ename": "ImportError",
     "evalue": "numpy.core.multiarray failed to import",
     "output_type": "error",
     "traceback": [
      "\u001b[1;31m---------------------------------------------------------------------------\u001b[0m",
      "\u001b[1;31mImportError\u001b[0m                               Traceback (most recent call last)",
      "Cell \u001b[1;32mIn[27], line 2\u001b[0m\n\u001b[0;32m      1\u001b[0m \u001b[38;5;66;03m# IMPORT PANDAS \u001b[39;00m\n\u001b[1;32m----> 2\u001b[0m \u001b[38;5;28;01mimport\u001b[39;00m \u001b[38;5;21;01mpandas\u001b[39;00m \u001b[38;5;28;01mas\u001b[39;00m \u001b[38;5;21;01mpd\u001b[39;00m\n\u001b[0;32m      4\u001b[0m \u001b[38;5;66;03m# IMPORT NUMPY\u001b[39;00m\n\u001b[0;32m      5\u001b[0m \u001b[38;5;28;01mimport\u001b[39;00m \u001b[38;5;21;01mnumpy\u001b[39;00m \u001b[38;5;28;01mas\u001b[39;00m \u001b[38;5;21;01mnp\u001b[39;00m\n",
      "File \u001b[1;32mC:\\ProgramData\\anaconda3\\Lib\\site-packages\\pandas\\__init__.py:49\u001b[0m\n\u001b[0;32m     46\u001b[0m \u001b[38;5;66;03m# let init-time option registration happen\u001b[39;00m\n\u001b[0;32m     47\u001b[0m \u001b[38;5;28;01mimport\u001b[39;00m \u001b[38;5;21;01mpandas\u001b[39;00m\u001b[38;5;21;01m.\u001b[39;00m\u001b[38;5;21;01mcore\u001b[39;00m\u001b[38;5;21;01m.\u001b[39;00m\u001b[38;5;21;01mconfig_init\u001b[39;00m  \u001b[38;5;66;03m# pyright: ignore[reportUnusedImport] # noqa: F401\u001b[39;00m\n\u001b[1;32m---> 49\u001b[0m \u001b[38;5;28;01mfrom\u001b[39;00m \u001b[38;5;21;01mpandas\u001b[39;00m\u001b[38;5;21;01m.\u001b[39;00m\u001b[38;5;21;01mcore\u001b[39;00m\u001b[38;5;21;01m.\u001b[39;00m\u001b[38;5;21;01mapi\u001b[39;00m \u001b[38;5;28;01mimport\u001b[39;00m (\n\u001b[0;32m     50\u001b[0m     \u001b[38;5;66;03m# dtype\u001b[39;00m\n\u001b[0;32m     51\u001b[0m     ArrowDtype,\n\u001b[0;32m     52\u001b[0m     Int8Dtype,\n\u001b[0;32m     53\u001b[0m     Int16Dtype,\n\u001b[0;32m     54\u001b[0m     Int32Dtype,\n\u001b[0;32m     55\u001b[0m     Int64Dtype,\n\u001b[0;32m     56\u001b[0m     UInt8Dtype,\n\u001b[0;32m     57\u001b[0m     UInt16Dtype,\n\u001b[0;32m     58\u001b[0m     UInt32Dtype,\n\u001b[0;32m     59\u001b[0m     UInt64Dtype,\n\u001b[0;32m     60\u001b[0m     Float32Dtype,\n\u001b[0;32m     61\u001b[0m     Float64Dtype,\n\u001b[0;32m     62\u001b[0m     CategoricalDtype,\n\u001b[0;32m     63\u001b[0m     PeriodDtype,\n\u001b[0;32m     64\u001b[0m     IntervalDtype,\n\u001b[0;32m     65\u001b[0m     DatetimeTZDtype,\n\u001b[0;32m     66\u001b[0m     StringDtype,\n\u001b[0;32m     67\u001b[0m     BooleanDtype,\n\u001b[0;32m     68\u001b[0m     \u001b[38;5;66;03m# missing\u001b[39;00m\n\u001b[0;32m     69\u001b[0m     NA,\n\u001b[0;32m     70\u001b[0m     isna,\n\u001b[0;32m     71\u001b[0m     isnull,\n\u001b[0;32m     72\u001b[0m     notna,\n\u001b[0;32m     73\u001b[0m     notnull,\n\u001b[0;32m     74\u001b[0m     \u001b[38;5;66;03m# indexes\u001b[39;00m\n\u001b[0;32m     75\u001b[0m     Index,\n\u001b[0;32m     76\u001b[0m     CategoricalIndex,\n\u001b[0;32m     77\u001b[0m     RangeIndex,\n\u001b[0;32m     78\u001b[0m     MultiIndex,\n\u001b[0;32m     79\u001b[0m     IntervalIndex,\n\u001b[0;32m     80\u001b[0m     TimedeltaIndex,\n\u001b[0;32m     81\u001b[0m     DatetimeIndex,\n\u001b[0;32m     82\u001b[0m     PeriodIndex,\n\u001b[0;32m     83\u001b[0m     IndexSlice,\n\u001b[0;32m     84\u001b[0m     \u001b[38;5;66;03m# tseries\u001b[39;00m\n\u001b[0;32m     85\u001b[0m     NaT,\n\u001b[0;32m     86\u001b[0m     Period,\n\u001b[0;32m     87\u001b[0m     period_range,\n\u001b[0;32m     88\u001b[0m     Timedelta,\n\u001b[0;32m     89\u001b[0m     timedelta_range,\n\u001b[0;32m     90\u001b[0m     Timestamp,\n\u001b[0;32m     91\u001b[0m     date_range,\n\u001b[0;32m     92\u001b[0m     bdate_range,\n\u001b[0;32m     93\u001b[0m     Interval,\n\u001b[0;32m     94\u001b[0m     interval_range,\n\u001b[0;32m     95\u001b[0m     DateOffset,\n\u001b[0;32m     96\u001b[0m     \u001b[38;5;66;03m# conversion\u001b[39;00m\n\u001b[0;32m     97\u001b[0m     to_numeric,\n\u001b[0;32m     98\u001b[0m     to_datetime,\n\u001b[0;32m     99\u001b[0m     to_timedelta,\n\u001b[0;32m    100\u001b[0m     \u001b[38;5;66;03m# misc\u001b[39;00m\n\u001b[0;32m    101\u001b[0m     Flags,\n\u001b[0;32m    102\u001b[0m     Grouper,\n\u001b[0;32m    103\u001b[0m     factorize,\n\u001b[0;32m    104\u001b[0m     unique,\n\u001b[0;32m    105\u001b[0m     value_counts,\n\u001b[0;32m    106\u001b[0m     NamedAgg,\n\u001b[0;32m    107\u001b[0m     array,\n\u001b[0;32m    108\u001b[0m     Categorical,\n\u001b[0;32m    109\u001b[0m     set_eng_float_format,\n\u001b[0;32m    110\u001b[0m     Series,\n\u001b[0;32m    111\u001b[0m     DataFrame,\n\u001b[0;32m    112\u001b[0m )\n\u001b[0;32m    114\u001b[0m \u001b[38;5;28;01mfrom\u001b[39;00m \u001b[38;5;21;01mpandas\u001b[39;00m\u001b[38;5;21;01m.\u001b[39;00m\u001b[38;5;21;01mcore\u001b[39;00m\u001b[38;5;21;01m.\u001b[39;00m\u001b[38;5;21;01mdtypes\u001b[39;00m\u001b[38;5;21;01m.\u001b[39;00m\u001b[38;5;21;01mdtypes\u001b[39;00m \u001b[38;5;28;01mimport\u001b[39;00m SparseDtype\n\u001b[0;32m    116\u001b[0m \u001b[38;5;28;01mfrom\u001b[39;00m \u001b[38;5;21;01mpandas\u001b[39;00m\u001b[38;5;21;01m.\u001b[39;00m\u001b[38;5;21;01mtseries\u001b[39;00m\u001b[38;5;21;01m.\u001b[39;00m\u001b[38;5;21;01mapi\u001b[39;00m \u001b[38;5;28;01mimport\u001b[39;00m infer_freq\n",
      "File \u001b[1;32mC:\\ProgramData\\anaconda3\\Lib\\site-packages\\pandas\\core\\api.py:1\u001b[0m\n\u001b[1;32m----> 1\u001b[0m \u001b[38;5;28;01mfrom\u001b[39;00m \u001b[38;5;21;01mpandas\u001b[39;00m\u001b[38;5;21;01m.\u001b[39;00m\u001b[38;5;21;01m_libs\u001b[39;00m \u001b[38;5;28;01mimport\u001b[39;00m (\n\u001b[0;32m      2\u001b[0m     NaT,\n\u001b[0;32m      3\u001b[0m     Period,\n\u001b[0;32m      4\u001b[0m     Timedelta,\n\u001b[0;32m      5\u001b[0m     Timestamp,\n\u001b[0;32m      6\u001b[0m )\n\u001b[0;32m      7\u001b[0m \u001b[38;5;28;01mfrom\u001b[39;00m \u001b[38;5;21;01mpandas\u001b[39;00m\u001b[38;5;21;01m.\u001b[39;00m\u001b[38;5;21;01m_libs\u001b[39;00m\u001b[38;5;21;01m.\u001b[39;00m\u001b[38;5;21;01mmissing\u001b[39;00m \u001b[38;5;28;01mimport\u001b[39;00m NA\n\u001b[0;32m      9\u001b[0m \u001b[38;5;28;01mfrom\u001b[39;00m \u001b[38;5;21;01mpandas\u001b[39;00m\u001b[38;5;21;01m.\u001b[39;00m\u001b[38;5;21;01mcore\u001b[39;00m\u001b[38;5;21;01m.\u001b[39;00m\u001b[38;5;21;01mdtypes\u001b[39;00m\u001b[38;5;21;01m.\u001b[39;00m\u001b[38;5;21;01mdtypes\u001b[39;00m \u001b[38;5;28;01mimport\u001b[39;00m (\n\u001b[0;32m     10\u001b[0m     ArrowDtype,\n\u001b[0;32m     11\u001b[0m     CategoricalDtype,\n\u001b[1;32m   (...)\u001b[0m\n\u001b[0;32m     14\u001b[0m     PeriodDtype,\n\u001b[0;32m     15\u001b[0m )\n",
      "File \u001b[1;32mC:\\ProgramData\\anaconda3\\Lib\\site-packages\\pandas\\_libs\\__init__.py:17\u001b[0m\n\u001b[0;32m     13\u001b[0m \u001b[38;5;66;03m# Below imports needs to happen first to ensure pandas top level\u001b[39;00m\n\u001b[0;32m     14\u001b[0m \u001b[38;5;66;03m# module gets monkeypatched with the pandas_datetime_CAPI\u001b[39;00m\n\u001b[0;32m     15\u001b[0m \u001b[38;5;66;03m# see pandas_datetime_exec in pd_datetime.c\u001b[39;00m\n\u001b[0;32m     16\u001b[0m \u001b[38;5;28;01mimport\u001b[39;00m \u001b[38;5;21;01mpandas\u001b[39;00m\u001b[38;5;21;01m.\u001b[39;00m\u001b[38;5;21;01m_libs\u001b[39;00m\u001b[38;5;21;01m.\u001b[39;00m\u001b[38;5;21;01mpandas_parser\u001b[39;00m  \u001b[38;5;66;03m# isort: skip # type: ignore[reportUnusedImport]\u001b[39;00m\n\u001b[1;32m---> 17\u001b[0m \u001b[38;5;28;01mimport\u001b[39;00m \u001b[38;5;21;01mpandas\u001b[39;00m\u001b[38;5;21;01m.\u001b[39;00m\u001b[38;5;21;01m_libs\u001b[39;00m\u001b[38;5;21;01m.\u001b[39;00m\u001b[38;5;21;01mpandas_datetime\u001b[39;00m  \u001b[38;5;66;03m# noqa: F401 # isort: skip # type: ignore[reportUnusedImport]\u001b[39;00m\n\u001b[0;32m     18\u001b[0m \u001b[38;5;28;01mfrom\u001b[39;00m \u001b[38;5;21;01mpandas\u001b[39;00m\u001b[38;5;21;01m.\u001b[39;00m\u001b[38;5;21;01m_libs\u001b[39;00m\u001b[38;5;21;01m.\u001b[39;00m\u001b[38;5;21;01minterval\u001b[39;00m \u001b[38;5;28;01mimport\u001b[39;00m Interval\n\u001b[0;32m     19\u001b[0m \u001b[38;5;28;01mfrom\u001b[39;00m \u001b[38;5;21;01mpandas\u001b[39;00m\u001b[38;5;21;01m.\u001b[39;00m\u001b[38;5;21;01m_libs\u001b[39;00m\u001b[38;5;21;01m.\u001b[39;00m\u001b[38;5;21;01mtslibs\u001b[39;00m \u001b[38;5;28;01mimport\u001b[39;00m (\n\u001b[0;32m     20\u001b[0m     NaT,\n\u001b[0;32m     21\u001b[0m     NaTType,\n\u001b[1;32m   (...)\u001b[0m\n\u001b[0;32m     26\u001b[0m     iNaT,\n\u001b[0;32m     27\u001b[0m )\n",
      "\u001b[1;31mImportError\u001b[0m: numpy.core.multiarray failed to import"
     ]
    }
   ],
   "source": [
    "# IMPORT PANDAS \n",
    "import pandas as pd\n",
    "\n",
    "# IMPORT NUMPY\n",
    "import numpy as np\n",
    "\n",
    "# IMPORT MATPLOTLIB\n",
    "import matplotlib.pyplot as plt\n",
    "\n",
    "# IMPORT SEABORN\n",
    "import seaborn as sns"
   ]
  },
  {
   "cell_type": "markdown",
   "id": "4314fa48-cf1a-49e8-af83-3609f9568cc3",
   "metadata": {},
   "source": [
    "### LOAD THE DATA SET"
   ]
  },
  {
   "cell_type": "code",
   "execution_count": 6,
   "id": "55e6b6db-870a-43ff-bc96-fd7db2619725",
   "metadata": {},
   "outputs": [
    {
     "ename": "NameError",
     "evalue": "name 'pd' is not defined",
     "output_type": "error",
     "traceback": [
      "\u001b[1;31m---------------------------------------------------------------------------\u001b[0m",
      "\u001b[1;31mNameError\u001b[0m                                 Traceback (most recent call last)",
      "Cell \u001b[1;32mIn[6], line 2\u001b[0m\n\u001b[0;32m      1\u001b[0m \u001b[38;5;66;03m# Read the dataset file into a table (DataFrame) \u001b[39;00m\n\u001b[1;32m----> 2\u001b[0m df_india_vehicle_sales_q1_2025 \u001b[38;5;241m=\u001b[39m pd\u001b[38;5;241m.\u001b[39mread_csv(\u001b[38;5;124m'\u001b[39m\u001b[38;5;124mindia_vehicle_sales_q1_2025.csv\u001b[39m\u001b[38;5;124m'\u001b[39m)\n",
      "\u001b[1;31mNameError\u001b[0m: name 'pd' is not defined"
     ]
    }
   ],
   "source": [
    "# Read the dataset file into a table (DataFrame) \n",
    "df_india_vehicle_sales_q1_2025 = pd.read_csv('india_vehicle_sales_q1_2025.csv')"
   ]
  },
  {
   "cell_type": "markdown",
   "id": "6d487c4e-03e1-4c11-b4f9-eca6c62b75c2",
   "metadata": {},
   "source": [
    "### DATA OVERVIEW"
   ]
  },
  {
   "cell_type": "code",
   "execution_count": null,
   "id": "27d88b91-8ed0-49ea-8f3d-72891282e7c4",
   "metadata": {},
   "outputs": [],
   "source": [
    "# SHOW FIRST 5 OBSERVATION OF DATA\n",
    "df_india_vehicle_sales_q1_2025.head()"
   ]
  },
  {
   "cell_type": "code",
   "execution_count": null,
   "id": "d95bf6fc-77c4-44e6-a67a-67830bafec1a",
   "metadata": {},
   "outputs": [],
   "source": [
    "# SHOW LAST 5 OBSERVATION OF DATA\n",
    "df_india_vehicle_sales_q1_2025.tail()"
   ]
  },
  {
   "cell_type": "code",
   "execution_count": null,
   "id": "a43327c1-322e-4cf3-8139-8bd7d3384197",
   "metadata": {},
   "outputs": [],
   "source": [
    "# SHOW THE SHAPE OF THE DATA \n",
    "df_india_vehicle_sales_q1_2025.shape"
   ]
  },
  {
   "cell_type": "markdown",
   "id": "cd9b98c5-4318-434d-8713-77c84402d0f0",
   "metadata": {},
   "source": [
    "**INTERPRITATION**\n",
    "- We have **10860 Observation** (rows)\n",
    "- We have **20 attributes** (columns)"
   ]
  },
  {
   "cell_type": "code",
   "execution_count": null,
   "id": "6ae9ace3-9fc7-4365-8df2-b61660b19adf",
   "metadata": {},
   "outputs": [],
   "source": [
    "# SHOW THE BASIC INFO OF THE DATA\n",
    "df_india_vehicle_sales_q1_2025.info()"
   ]
  },
  {
   "cell_type": "markdown",
   "id": "b9ae4259-4d8f-43b9-b053-e4cb8247d303",
   "metadata": {},
   "source": [
    "**INTERPRETATION**\n",
    " - We have total **7 numarical columns** and **13 categorical columns**\n",
    " - **Memory usage** is **1.4+ MB** we do not required extra resoures"
   ]
  },
  {
   "cell_type": "code",
   "execution_count": null,
   "id": "c71dfe56-634e-4116-a0d5-842edb87e23f",
   "metadata": {},
   "outputs": [],
   "source": [
    "# JUSTIFIY THE BAISC STATISTIC OF THE DATA\n",
    "df_india_vehicle_sales_q1_2025.describe().T"
   ]
  },
  {
   "cell_type": "markdown",
   "id": "8c8c61ad-56d0-4869-8152-f6482cf47a17",
   "metadata": {},
   "source": [
    "**INTERPRETATION**\n",
    " - From comparing the mean and median we get outlier may be present in **Sales_Volume**"
   ]
  },
  {
   "cell_type": "code",
   "execution_count": null,
   "id": "5f3639ff-4b93-4f42-beeb-29800090be06",
   "metadata": {},
   "outputs": [],
   "source": [
    "# Define Function to Remove Outliers Using IQR\n",
    "# Create a function to remove outliers based on the IQR method.\n",
    "def remove_outliers_iqr(data, column):\n",
    "    Q1 = data[column].quantile(0.25)  # 25th percentile\n",
    "    Q3 = data[column].quantile(0.75)  # 75th percentile\n",
    "    IQR = Q3 - Q1  # Interquartile range\n",
    "    lower_bound = Q1 - 1.5 * IQR\n",
    "    upper_bound = Q3 + 1.5 * IQR\n",
    "    # Keep only the rows where the column value is within the bounds\n",
    "    data_cleaned = data[(data[column] >= lower_bound) & (data[column] <= upper_bound)]\n",
    "    return data_cleaned\n",
    "\n",
    "# Remove Outliers - Sales_Volume\n",
    "# Remove outliers from Sales_Volume and update the DataFrame.\n",
    "df_india_vehicle_sales_q1_2025 = remove_outliers_iqr(df_india_vehicle_sales_q1_2025, 'Sales_Volume')\n",
    "\n",
    "\n",
    "# Verify Removal\n",
    "# Check the updated DataFrame size to confirm outliers are removed.\n",
    "print(\"Original Number of Rows:\", pd.read_csv('india_vehicle_sales_q1_2025.csv').shape[0])\n",
    "print(\"Rows After Outlier Removal:\", df_india_vehicle_sales_q1_2025.shape[0])"
   ]
  },
  {
   "cell_type": "code",
   "execution_count": null,
   "id": "2e5ebbcc-3c34-48c5-bb1e-14ad9fa29329",
   "metadata": {},
   "outputs": [],
   "source": [
    "# JUSTIFIY THE BAISC STATISTIC OF THE DATA\n",
    "df_india_vehicle_sales_q1_2025.describe().T"
   ]
  },
  {
   "cell_type": "code",
   "execution_count": null,
   "id": "ee573d1a-3d0e-4834-a2a1-e10933a546a6",
   "metadata": {},
   "outputs": [],
   "source": [
    "# Define Function to Remove Outliers Using IQR\n",
    "# Create a function to remove outliers based on the IQR method.\n",
    "def remove_outliers_iqr(data, column):\n",
    "    Q1 = data[column].quantile(0.25)  # 25th percentile\n",
    "    Q3 = data[column].quantile(0.75)  # 75th percentile\n",
    "    IQR = Q3 - Q1  # Interquartile range\n",
    "    lower_bound = Q1 - 1.5 * IQR\n",
    "    upper_bound = Q3 + 1.5 * IQR\n",
    "    # Keep only the rows where the column value is within the bounds\n",
    "    data_cleaned = data[(data[column] >= lower_bound) & (data[column] <= upper_bound)]\n",
    "    return data_cleaned\n",
    "\n",
    "# Remove Outliers - Sales_Volume\n",
    "# Remove outliers from Sales_Volume and update the DataFrame.\n",
    "df_india_vehicle_sales_q1_2025 = remove_outliers_iqr(df_india_vehicle_sales_q1_2025, 'Sales_Volume')\n",
    "\n",
    "# Remove Outliers - Sales_ID\n",
    "# Remove outliers from Sales_ID and update the DataFrame.\n",
    "df_india_vehicle_sales_q1_2025 = remove_outliers_iqr(df_india_vehicle_sales_q1_2025, 'Sales_ID')\n",
    "\n",
    "# Verify Removal\n",
    "# Check the updated DataFrame size to confirm outliers are removed.\n",
    "print(\"Original Number of Rows:\", pd.read_csv('india_vehicle_sales_q1_2025.csv').shape[0])\n",
    "print(\"Rows After Outlier Removal:\", df_india_vehicle_sales_q1_2025.shape[0])"
   ]
  },
  {
   "cell_type": "code",
   "execution_count": null,
   "id": "d0829019-6edb-40a6-8a12-53227039c356",
   "metadata": {},
   "outputs": [],
   "source": [
    "# JUSTIFIY THE BAISC STATISTIC OF THE DATA\n",
    "df_india_vehicle_sales_q1_2025.describe().T"
   ]
  },
  {
   "cell_type": "markdown",
   "id": "d5780757-d0ee-4031-b7f1-d8064f977689",
   "metadata": {},
   "source": [
    "## DATA PRE-PROCESSING"
   ]
  },
  {
   "cell_type": "markdown",
   "id": "e6e967c6-1145-40c1-b652-550fd16c5ce3",
   "metadata": {},
   "source": [
    "## Null value Handling"
   ]
  },
  {
   "cell_type": "code",
   "execution_count": null,
   "id": "25c9c9db-71cf-4b01-af7a-88da6c16c75c",
   "metadata": {},
   "outputs": [],
   "source": [
    "# NULL VALUE HANDLING\n",
    "# SHOW THE COUNT OF NULL RECORDS IN THE DATA \n",
    "df_india_vehicle_sales_q1_2025.isnull().sum()"
   ]
  },
  {
   "cell_type": "markdown",
   "id": "2e030be8-812d-4c88-ae5c-e63bf7b7ea6e",
   "metadata": {},
   "source": [
    "**INTERPRETATION**\n",
    " - In the data we don't have null records"
   ]
  },
  {
   "cell_type": "markdown",
   "id": "f53af3f9-2681-484a-8d6e-348711d61e68",
   "metadata": {},
   "source": [
    "# EDA (Exploratory Data Analysis)"
   ]
  },
  {
   "cell_type": "code",
   "execution_count": null,
   "id": "56a1d094-4d11-4b00-83ad-61bb4c60fdb2",
   "metadata": {},
   "outputs": [],
   "source": [
    "# SEGREGATE THE DATA BASED ON DATATYPE\n",
    "df_num = df_india_vehicle_sales_q1_2025.select_dtypes(include = 'number') #NUMERICAL DATA FRAME\n",
    "df_cat = df_india_vehicle_sales_q1_2025.select_dtypes(include = 'object') #CATAGORICAL DATA FRAME"
   ]
  },
  {
   "cell_type": "code",
   "execution_count": null,
   "id": "62d7d1ab-a937-4cc0-8efc-6c81f11115db",
   "metadata": {},
   "outputs": [],
   "source": [
    "# SHOW THE FIRST FIVE OBSERVATION OF NUMERICAL DATA \n",
    "df_num.head()"
   ]
  },
  {
   "cell_type": "code",
   "execution_count": null,
   "id": "3fce51c1-84f7-4b11-8869-02284eab3c5b",
   "metadata": {},
   "outputs": [],
   "source": [
    "# SHOW THE FIRST FIVE OBSERVATION OF CATAGORICAL DATA \n",
    "df_cat.head()"
   ]
  },
  {
   "cell_type": "markdown",
   "id": "aaa499df-82a1-47ea-85c0-dd2d3d974d62",
   "metadata": {},
   "source": [
    "## UNIVIRIATE ANALYSIS"
   ]
  },
  {
   "cell_type": "markdown",
   "id": "b2f62140-5376-47c9-b21c-4ddcbbdd30c8",
   "metadata": {},
   "source": [
    "### NUMERICAL COLUMNS"
   ]
  },
  {
   "cell_type": "code",
   "execution_count": null,
   "id": "2bfefd5a-5a3b-4bde-a53c-9f34eccabc65",
   "metadata": {},
   "outputs": [],
   "source": [
    "# SHOW THE NUMERICAL COLUMNS\n",
    "df_num.columns"
   ]
  },
  {
   "cell_type": "markdown",
   "id": "02466794-17dd-4f0a-9206-b729a80fbfbd",
   "metadata": {},
   "source": [
    "### Sales_ID"
   ]
  },
  {
   "cell_type": "code",
   "execution_count": null,
   "id": "da6e28ac-a8b8-4032-b2ca-7ef10464531a",
   "metadata": {},
   "outputs": [],
   "source": [
    "# SHOW THE MINIMUM\n",
    "df_num.Sales_ID.min()"
   ]
  },
  {
   "cell_type": "code",
   "execution_count": null,
   "id": "ba7d2ec9-07ee-4524-984b-da06ebcb663c",
   "metadata": {},
   "outputs": [],
   "source": [
    "# SHOW THE MAXIMUM\n",
    "df_num.Sales_ID.max()"
   ]
  },
  {
   "cell_type": "code",
   "execution_count": null,
   "id": "ff696ea1-7aff-452e-8a5a-c0e6671a8d3a",
   "metadata": {},
   "outputs": [],
   "source": [
    "# SHOW THE AVARAGE\n",
    "round(df_num.Sales_ID.mean(),3)"
   ]
  },
  {
   "cell_type": "code",
   "execution_count": null,
   "id": "5413e593-c625-4c50-b1f3-2c63b6b6e0c0",
   "metadata": {},
   "outputs": [],
   "source": [
    "# SHOW THE DISTRIBUTION OF THE SINGLE NUMERICAL COLUMN\n",
    "df_num.Sales_ID.plot(kind = 'kde', color = 'magenta') # KERANAL DENSITY PLOT\n",
    "plt.grid()\n",
    "plt.title('DISTRIBUTION OF Sales_ID')\n",
    "plt.show()"
   ]
  },
  {
   "cell_type": "markdown",
   "id": "449e9d3f-c9bc-4d12-b6a0-7878a3c488d9",
   "metadata": {},
   "source": [
    "### INTERPRETATION ###\n",
    " - THE **MAXIMUM VALUE** OF **Sales_ID** IS **1**\n",
    " - THE **MINIMUM VALUE** OF **Sales_ID** IS **10860**\n",
    " - THE **AVARAGE VALUE** OF **Sales_ID** IS **5464.236**\n",
    " - WE HAVE **DATA RANGE** OF **Sales_ID** IS BETWEEN **-2000 TO 12500**"
   ]
  },
  {
   "cell_type": "code",
   "execution_count": null,
   "id": "f2909ac4-f6f3-4de5-86f1-372807f26d0c",
   "metadata": {},
   "outputs": [],
   "source": [
    "# SHOW THE NUMERICAL COLUMNS\n",
    "df_num.columns"
   ]
  },
  {
   "cell_type": "markdown",
   "id": "df9138f8-3e55-40b5-bc98-66ff69c06d88",
   "metadata": {},
   "source": [
    "### Sales_Volume"
   ]
  },
  {
   "cell_type": "code",
   "execution_count": null,
   "id": "6186cf9c-1314-44b9-a843-2eb8ee968476",
   "metadata": {},
   "outputs": [],
   "source": [
    "# SHOW THE MINIMUM\n",
    "df_num.Sales_Volume.min()"
   ]
  },
  {
   "cell_type": "code",
   "execution_count": null,
   "id": "c1eb566d-11e3-402b-9c7f-dd7762f0ff27",
   "metadata": {},
   "outputs": [],
   "source": [
    "# SHOW THE MAXIMUM\n",
    "df_num.Sales_Volume.max()"
   ]
  },
  {
   "cell_type": "code",
   "execution_count": null,
   "id": "f02abca7-75ad-473b-a3ff-95bd72288ab2",
   "metadata": {},
   "outputs": [],
   "source": [
    "# SHOW THE AVARAGE\n",
    "round(df_num.Sales_Volume.mean(),3)"
   ]
  },
  {
   "cell_type": "code",
   "execution_count": null,
   "id": "eb38506e-a5ed-4290-ba83-950e46e1a246",
   "metadata": {},
   "outputs": [],
   "source": [
    "# SHOW THE DISTRIBUTION OF THE SINGLE NUMERICAL COLUMN\n",
    "df_num.Sales_Volume.plot(kind = 'kde', color = 'magenta') # KERANAL DENSITY PLOT\n",
    "plt.grid()\n",
    "plt.title('DISTRIBUTION OF Sales_Volume')\n",
    "plt.show()"
   ]
  },
  {
   "cell_type": "markdown",
   "id": "e37def1d-a54c-40dd-a08c-c5c6a5882f9d",
   "metadata": {},
   "source": [
    "### INTERPRETATION ###\n",
    " - THE **MAXIMUM VALUE** OF **Sales_Volume** IS **6**\n",
    " - THE **MINIMUM VALUE** OF **Sales_Volume** IS **529**\n",
    " - THE **AVARAGE VALUE** OF **Sales_Volume** IS **188.57**\n",
    " - WE HAVE **DATA RANGE** OF **Sales_Volume** IS BETWEEN **-50 to 580**"
   ]
  },
  {
   "cell_type": "code",
   "execution_count": null,
   "id": "78d75382-13b0-4b30-ad1a-913474bdaeba",
   "metadata": {},
   "outputs": [],
   "source": [
    "# SHOW THE NUMERICAL COLUMNS\n",
    "df_num.columns"
   ]
  },
  {
   "cell_type": "markdown",
   "id": "4f7469e9-6a1d-4e97-a3e0-740cba57e9d2",
   "metadata": {},
   "source": [
    "### Monsoon_Index"
   ]
  },
  {
   "cell_type": "code",
   "execution_count": null,
   "id": "b02dfe93-48e9-4b00-b740-fa073a6b786c",
   "metadata": {},
   "outputs": [],
   "source": [
    "# SHOW THE MINIMUM\n",
    "df_num.Monsoon_Index.min()"
   ]
  },
  {
   "cell_type": "code",
   "execution_count": null,
   "id": "accb2334-3bb6-47b7-b875-6d85dfa3ce82",
   "metadata": {},
   "outputs": [],
   "source": [
    "# SHOW THE MAXIMUM\n",
    "df_num.Monsoon_Index.max()"
   ]
  },
  {
   "cell_type": "code",
   "execution_count": null,
   "id": "dcd8f74d-59af-4d8f-b5ff-351f429da998",
   "metadata": {},
   "outputs": [],
   "source": [
    "# SHOW THE AVARAGE\n",
    "round(df_num.Monsoon_Index.mean(),3)"
   ]
  },
  {
   "cell_type": "code",
   "execution_count": null,
   "id": "75da55d0-297d-4e62-9979-c67d11435883",
   "metadata": {},
   "outputs": [],
   "source": [
    "# SHOW THE DISTRIBUTION OF THE SINGLE NUMERICAL COLUMN\n",
    "df_num.Monsoon_Index.plot(kind = 'kde', color = 'magenta') # KERANAL DENSITY PLOT\n",
    "plt.grid()\n",
    "plt.title('DISTRIBUTION OF Monsoon_Index')\n",
    "plt.show()"
   ]
  },
  {
   "cell_type": "markdown",
   "id": "0aed9ddb-23f4-45c1-ba27-7629e1cacbcc",
   "metadata": {},
   "source": [
    "### INTERPRETATION ###\n",
    " - THE **MAXIMUM VALUE** OF **Monsoon_Index** IS **50.08**\n",
    " - THE **MINIMUM VALUE** OF **Monsoon_Index** IS **99.99**\n",
    " - THE **AVARAGE VALUE** OF **Monsoon_Index** IS **74.731**\n",
    " - WE HAVE **DATA RANGE** OF **Monsoon_Index** IS BETWEEN **45 TO 105**"
   ]
  },
  {
   "cell_type": "code",
   "execution_count": null,
   "id": "2ca5e01a-ddae-4f50-9919-7da4df52cd9d",
   "metadata": {},
   "outputs": [],
   "source": [
    "# SHOW THE NUMERICAL COLUMNS\n",
    "df_num.columns"
   ]
  },
  {
   "cell_type": "markdown",
   "id": "a7319c35-9d60-496c-9426-c0dd878b5ee4",
   "metadata": {},
   "source": [
    "### Repo_Rate"
   ]
  },
  {
   "cell_type": "code",
   "execution_count": null,
   "id": "97567438-7f96-434b-bac4-2219dc4660ac",
   "metadata": {},
   "outputs": [],
   "source": [
    "# SHOW THE MINIMUM\n",
    "df_num.Repo_Rate.min()"
   ]
  },
  {
   "cell_type": "code",
   "execution_count": null,
   "id": "01a47103-53a4-4ec9-9230-ee6b03f4d9de",
   "metadata": {},
   "outputs": [],
   "source": [
    "# SHOW THE MAXIMUM\n",
    "df_num.Repo_Rate.max()"
   ]
  },
  {
   "cell_type": "code",
   "execution_count": null,
   "id": "888504a4-a6ff-4937-b97f-f2aab2670f2f",
   "metadata": {},
   "outputs": [],
   "source": [
    "# SHOW THE AVARAGE\n",
    "round(df_num.Repo_Rate.mean(),3)"
   ]
  },
  {
   "cell_type": "code",
   "execution_count": null,
   "id": "bc032f5c-2db5-4945-8090-79fea3c3d2be",
   "metadata": {},
   "outputs": [],
   "source": [
    "# SHOW THE DISTRIBUTION OF THE SINGLE NUMERICAL COLUMN\n",
    "df_num.Repo_Rate.plot(kind = 'kde', color = 'magenta') # KERANAL DENSITY PLOT\n",
    "plt.grid()\n",
    "plt.title('DISTRIBUTION OF Repo_Rate')\n",
    "plt.show()"
   ]
  },
  {
   "cell_type": "markdown",
   "id": "2285fc72-8215-4dcd-9c62-e3710e7a6ab6",
   "metadata": {},
   "source": [
    "### INTERPRETATION ###\n",
    " - THE **MAXIMUM VALUE** OF **Repo_Rate** IS **3.36**\n",
    " - THE **MINIMUM VALUE** OF **Repo_Rate** IS **5.96**\n",
    " - THE **AVARAGE VALUE** OF **Repo_Rate** IS **4.762**\n",
    " - WE HAVE **DATA RANGE** OF **Repo_Rate** IS BETWEEN **3.5 TO 6**"
   ]
  },
  {
   "cell_type": "code",
   "execution_count": null,
   "id": "cdee488e-4efd-4243-934f-d6c7a4981556",
   "metadata": {},
   "outputs": [],
   "source": [
    "# SHOW THE NUMERICAL COLUMNS\n",
    "df_num.columns"
   ]
  },
  {
   "cell_type": "markdown",
   "id": "e9bf7f58-1289-44aa-a08c-fdece6cb7fa6",
   "metadata": {},
   "source": [
    "### Inventory_Days"
   ]
  },
  {
   "cell_type": "code",
   "execution_count": null,
   "id": "adb80dc1-5541-4ec2-b965-f4fe1bd6b55f",
   "metadata": {},
   "outputs": [],
   "source": [
    "# SHOW THE MINIMUM\n",
    "df_num.Inventory_Days.min()"
   ]
  },
  {
   "cell_type": "code",
   "execution_count": null,
   "id": "e85d7d90-78df-4b37-931b-5b741e19f40c",
   "metadata": {},
   "outputs": [],
   "source": [
    "# SHOW THE MAXIMUM\n",
    "df_num.Inventory_Days.max()"
   ]
  },
  {
   "cell_type": "code",
   "execution_count": null,
   "id": "55f843aa-69c2-4438-935d-0e0b7a49ef4d",
   "metadata": {},
   "outputs": [],
   "source": [
    "# SHOW THE AVARAGE\n",
    "round(df_num.Inventory_Days.mean(),3)"
   ]
  },
  {
   "cell_type": "code",
   "execution_count": null,
   "id": "e72cee7c-6dd9-422b-ad29-de30e0750ecf",
   "metadata": {},
   "outputs": [],
   "source": [
    "# SHOW THE DISTRIBUTION OF THE SINGLE NUMERICAL COLUMN\n",
    "df_num.Inventory_Days.plot(kind = 'kde', color = 'magenta') # KERANAL DENSITY PLOT\n",
    "plt.grid()\n",
    "plt.title('DISTRIBUTION OF Inventory_Days')\n",
    "plt.show()"
   ]
  },
  {
   "cell_type": "markdown",
   "id": "ae145dc3-1248-4ac3-906a-ef7d7ba11c4c",
   "metadata": {},
   "source": [
    "### INTERPRETATION ###\n",
    " - THE **MAXIMUM VALUE** OF **Inventory_Days** IS **10**\n",
    " - THE **MINIMUM VALUE** OF **Inventory_Days** IS **99**\n",
    " - THE **AVARAGE VALUE** OF **Inventory_Days** IS **52.336**\n",
    " - WE HAVE **DATA RANGE** OF **Inventory_Days** IS BETWEEN **0 TO 112**"
   ]
  },
  {
   "cell_type": "code",
   "execution_count": null,
   "id": "5809668a-2237-407c-8957-46d4fb575756",
   "metadata": {},
   "outputs": [],
   "source": [
    "# SHOW THE NUMERICAL COLUMNS\n",
    "df_num.columns"
   ]
  },
  {
   "cell_type": "markdown",
   "id": "f854abb7-6340-4775-b332-162b3bc60f8f",
   "metadata": {},
   "source": [
    "### Discount_Percentage"
   ]
  },
  {
   "cell_type": "code",
   "execution_count": null,
   "id": "a6dea31f-2610-4094-a094-942cbcd591cb",
   "metadata": {},
   "outputs": [],
   "source": [
    "# SHOW THE MINIMUM\n",
    "df_num.Discount_Percentage.min()"
   ]
  },
  {
   "cell_type": "code",
   "execution_count": null,
   "id": "999eab48-513f-4697-8735-961197741608",
   "metadata": {},
   "outputs": [],
   "source": [
    "# SHOW THE MAXIMUM\n",
    "df_num.Discount_Percentage.max()"
   ]
  },
  {
   "cell_type": "code",
   "execution_count": null,
   "id": "e933954c-acfe-4598-850b-83a79a70aebf",
   "metadata": {},
   "outputs": [],
   "source": [
    "# SHOW THE AVARAGE\n",
    "round(df_num.Discount_Percentage.mean(),3)"
   ]
  },
  {
   "cell_type": "code",
   "execution_count": null,
   "id": "2d18613c-723e-4f17-8866-19271ef405ae",
   "metadata": {},
   "outputs": [],
   "source": [
    "# SHOW THE DISTRIBUTION OF THE SINGLE NUMERICAL COLUMN\n",
    "df_num.Discount_Percentage.plot(kind = 'kde', color = 'magenta') # KERANAL DENSITY PLOT\n",
    "plt.grid()\n",
    "plt.title('DISTRIBUTION OF Discount_Percentage')\n",
    "plt.show()"
   ]
  },
  {
   "cell_type": "markdown",
   "id": "f472cbca-eca4-4d1d-8867-5ae4d6e0ef26",
   "metadata": {},
   "source": [
    "### INTERPRETATION ###\n",
    " - THE **MAXIMUM VALUE** OF **Discount_Percentage** IS **0.01**\n",
    " - THE **MINIMUM VALUE** OF **Discount_Percentage** IS **19.93**\n",
    " - THE **AVARAGE VALUE** OF **Discount_Percentage** IS **9.106**\n",
    " - WE HAVE **DATA RANGE** OF **Discount_Percentage** IS BETWEEN **-3 TO 23**"
   ]
  },
  {
   "cell_type": "code",
   "execution_count": null,
   "id": "4b916da0-cf10-43ab-a435-8f314fc9956d",
   "metadata": {},
   "outputs": [],
   "source": [
    "# SHOW THE NUMERICAL COLUMNS\n",
    "df_num.columns"
   ]
  },
  {
   "cell_type": "markdown",
   "id": "6721f75a-227b-4f7f-a597-003bfa3b8c56",
   "metadata": {},
   "source": [
    "### Consumer_Sentiment"
   ]
  },
  {
   "cell_type": "code",
   "execution_count": null,
   "id": "7b4349b0-f9ef-40b4-a4f6-1a79680d327a",
   "metadata": {},
   "outputs": [],
   "source": [
    "# SHOW THE MINIMUM\n",
    "df_num.Consumer_Sentiment.min()"
   ]
  },
  {
   "cell_type": "code",
   "execution_count": null,
   "id": "b5682688-e238-4356-8fe7-7373bdd77636",
   "metadata": {},
   "outputs": [],
   "source": [
    "# SHOW THE MAXIMUM\n",
    "df_num.Consumer_Sentiment.max()"
   ]
  },
  {
   "cell_type": "code",
   "execution_count": null,
   "id": "cbe521ff-8f9e-4830-8ae3-f2aee077b6c9",
   "metadata": {},
   "outputs": [],
   "source": [
    "# SHOW THE AVARAGE\n",
    "round(df_num.Consumer_Sentiment.mean(),3)"
   ]
  },
  {
   "cell_type": "code",
   "execution_count": null,
   "id": "77732b48-8775-46d6-b247-802ebc0b28d0",
   "metadata": {},
   "outputs": [],
   "source": [
    "# SHOW THE DISTRIBUTION OF THE SINGLE NUMERICAL COLUMN\n",
    "df_num.Consumer_Sentiment.plot(kind = 'kde', color = 'magenta') # KERANAL DENSITY PLOT\n",
    "plt.grid()\n",
    "plt.title('DISTRIBUTION OF Consumer_Sentiment')\n",
    "plt.show()"
   ]
  },
  {
   "cell_type": "markdown",
   "id": "0d61d47c-28be-417e-8c56-a9268531d86a",
   "metadata": {},
   "source": [
    "### INTERPRETATION ###\n",
    " - THE **MAXIMUM VALUE** OF **Consumer_Sentiment** IS **30**\n",
    " - THE **MINIMUM VALUE** OF **Consumer_Sentiment** IS **69.99**\n",
    " - THE **AVARAGE VALUE** OF **Consumer_Sentiment** IS **50.067**\n",
    " - WE HAVE **DATA RANGE** OF **Consumer_Sentiment** IS BETWEEN **25 TO 75**"
   ]
  },
  {
   "cell_type": "markdown",
   "id": "1e976d78-f00b-4960-b2b4-d682f06bca64",
   "metadata": {},
   "source": [
    "### CATEGORICAL DATA"
   ]
  },
  {
   "cell_type": "code",
   "execution_count": null,
   "id": "592c2d91-c08b-4b9e-9beb-c507c77e0876",
   "metadata": {},
   "outputs": [],
   "source": [
    "# SHOW THE FIRST FIVE OBSERVATION OF CATEGORICAL DATA \n",
    "df_cat.head()"
   ]
  },
  {
   "cell_type": "code",
   "execution_count": null,
   "id": "b8a3b2bf-7115-4a34-9f7a-f4696685f6e3",
   "metadata": {},
   "outputs": [],
   "source": [
    "# SHOW THE COLUMNS\n",
    "df_cat.columns"
   ]
  },
  {
   "cell_type": "markdown",
   "id": "9d96e1bc-1ddd-49d5-9b50-3ba8c761f3cf",
   "metadata": {},
   "source": [
    "### Sale_Date"
   ]
  },
  {
   "cell_type": "code",
   "execution_count": null,
   "id": "04f7676b-1220-4958-9875-b14bceac770d",
   "metadata": {},
   "outputs": [],
   "source": [
    "# Check the categories present in categorical columns (Indusrty)\n",
    "df_cat.Sale_Date.value_counts()"
   ]
  },
  {
   "cell_type": "code",
   "execution_count": null,
   "id": "32b311d6-621b-451b-a629-91a9208faf10",
   "metadata": {},
   "outputs": [],
   "source": [
    "# SHOW THE COLUMNS\n",
    "df_cat.columns"
   ]
  },
  {
   "cell_type": "markdown",
   "id": "ee43fb91-6b20-485f-ace8-4d5e4e87ea98",
   "metadata": {},
   "source": [
    "### Vehicle_Type"
   ]
  },
  {
   "cell_type": "code",
   "execution_count": null,
   "id": "aa0d23ec-3868-4b6b-acab-4c8500cfb900",
   "metadata": {},
   "outputs": [],
   "source": [
    "# Check the categories present in categorical columns (Indusrty)\n",
    "df_cat.Sale_Date.value_counts()"
   ]
  },
  {
   "cell_type": "code",
   "execution_count": null,
   "id": "b2a4df28-f401-4ca4-bbf2-d62ccd71103c",
   "metadata": {},
   "outputs": [],
   "source": [
    "# Check how many unique customers there are and see sample IDs.\n",
    "print(\"Unique Vehicle_Type:\", df_india_vehicle_sales_q1_2025['Vehicle_Type'].nunique())\n",
    "print(\"Sample Vehicle_Type:\", df_india_vehicle_sales_q1_2025['Vehicle_Type'].head().tolist())"
   ]
  },
  {
   "cell_type": "code",
   "execution_count": null,
   "id": "32cc8a44-3e28-4fa0-a9d2-57fd3c4902fc",
   "metadata": {},
   "outputs": [],
   "source": [
    "# SHOW THE PLOT\n",
    "df_cat.Vehicle_Type.value_counts().plot(kind = 'bar', color = 'magenta')\n",
    "plt.grid()\n",
    "plt.title('COUNT OF Vehicle_Type')\n",
    "plt.ylabel('Count')\n",
    "plt.xticks(rotation=360)\n",
    "plt.show()"
   ]
  },
  {
   "cell_type": "markdown",
   "id": "d2deb693-79cb-4d9a-940e-06b5442a78e2",
   "metadata": {},
   "source": [
    "**Interpretation**\n",
    " - By observing the graph we get to know that,\n",
    " - Motorcycle     750\n",
    " - SUV            590\n",
    " - Scooter        580\n",
    " - Passenger Car  490"
   ]
  },
  {
   "cell_type": "code",
   "execution_count": null,
   "id": "7414062a-f0e3-4d1b-9e73-2db2f14c5a17",
   "metadata": {},
   "outputs": [],
   "source": [
    "# SHOW THE COLUMNS\n",
    "df_cat.columns"
   ]
  },
  {
   "cell_type": "markdown",
   "id": "3b01c18d-5beb-4cea-a1d3-09f94cd64bfd",
   "metadata": {},
   "source": [
    "### Price_Range"
   ]
  },
  {
   "cell_type": "code",
   "execution_count": null,
   "id": "f53242c6-835a-4ad7-895e-220254d56f4c",
   "metadata": {},
   "outputs": [],
   "source": [
    "# Check the categories present in categorical columns (Indusrty)\n",
    "df_cat.Price_Range.value_counts()"
   ]
  },
  {
   "cell_type": "code",
   "execution_count": null,
   "id": "e8825091-3749-4b68-bf1d-34b7197c9722",
   "metadata": {},
   "outputs": [],
   "source": [
    "# SHOW THE PLOT\n",
    "df_cat.Price_Range.value_counts().plot(kind = 'bar', color = 'magenta')\n",
    "plt.grid()\n",
    "plt.title('COUNT OF Price_Range')\n",
    "plt.ylabel('Count')\n",
    "plt.xticks(rotation=360)\n",
    "plt.show()"
   ]
  },
  {
   "cell_type": "markdown",
   "id": "69c0b066-e4e9-4cc8-a518-20a89eb6c255",
   "metadata": {},
   "source": [
    "**Interpretation**\n",
    " - By observing the graph we get to know that,\n",
    " - Entry-Level 1290\n",
    " - Mid-Range   850\n",
    " - Premium     250"
   ]
  },
  {
   "cell_type": "code",
   "execution_count": null,
   "id": "3be25cc0-2d85-42b9-9a16-34164ac187e8",
   "metadata": {},
   "outputs": [],
   "source": [
    "# SHOW THE COLUMNS\n",
    "df_cat.columns"
   ]
  },
  {
   "cell_type": "markdown",
   "id": "452122a4-db5e-4dc5-8b3b-a27917f7f7c6",
   "metadata": {},
   "source": [
    "### Region"
   ]
  },
  {
   "cell_type": "code",
   "execution_count": null,
   "id": "7c6b5a32-e553-403f-b50b-254fbb9b09c9",
   "metadata": {},
   "outputs": [],
   "source": [
    "# Check the categories present in categorical columns (Indusrty)\n",
    "df_cat.Region.value_counts()"
   ]
  },
  {
   "cell_type": "code",
   "execution_count": null,
   "id": "7251d29b-6425-4822-b852-161728d583f0",
   "metadata": {},
   "outputs": [],
   "source": [
    "# SHOW THE PLOT\n",
    "df_cat.Region.value_counts().plot(kind = 'bar', color = 'magenta')\n",
    "plt.grid()\n",
    "plt.title('COUNT OF Region')\n",
    "plt.ylabel('Count')\n",
    "plt.xticks(rotation=360)\n",
    "plt.show()"
   ]
  },
  {
   "cell_type": "markdown",
   "id": "2ce61eb9-c26c-4204-83b4-38bafe35b141",
   "metadata": {},
   "source": [
    "**Interpretation**\n",
    " - By observing the graph we get to know that,\n",
    " - Region  2400"
   ]
  },
  {
   "cell_type": "code",
   "execution_count": null,
   "id": "25712ae2-8987-430d-ba5c-6f0d3986ef9e",
   "metadata": {},
   "outputs": [],
   "source": [
    "# SHOW THE COLUMNS\n",
    "df_cat.columns"
   ]
  },
  {
   "cell_type": "markdown",
   "id": "dcb5091f-8628-4f34-80a5-e7d851113aec",
   "metadata": {},
   "source": [
    "### State"
   ]
  },
  {
   "cell_type": "code",
   "execution_count": null,
   "id": "82035b7f-41a3-4724-a159-82dd9f89f94c",
   "metadata": {},
   "outputs": [],
   "source": [
    "# Check the categories present in categorical columns (Indusrty)\n",
    "df_cat.State.value_counts()"
   ]
  },
  {
   "cell_type": "code",
   "execution_count": null,
   "id": "3cea0a08-90fc-4ab0-a4ed-388761e0f310",
   "metadata": {},
   "outputs": [],
   "source": [
    "# SHOW THE PLOT\n",
    "df_cat.State.value_counts().plot(kind = 'bar', color = 'magenta')\n",
    "plt.grid()\n",
    "plt.title('COUNT OF State')\n",
    "plt.ylabel('Count')\n",
    "plt.xticks(rotation=60)\n",
    "plt.show()"
   ]
  },
  {
   "cell_type": "code",
   "execution_count": null,
   "id": "6a799c3e-dbe5-49c0-b8bb-c63e3cd10de1",
   "metadata": {},
   "outputs": [],
   "source": [
    "# SHOW THE COLUMNS\n",
    "df_cat.columns"
   ]
  },
  {
   "cell_type": "markdown",
   "id": "a2cfae25-28d9-4da7-8169-762822d2d1b8",
   "metadata": {},
   "source": [
    "### Income_Level"
   ]
  },
  {
   "cell_type": "code",
   "execution_count": null,
   "id": "f1fe4cc6-d028-4f15-9f15-7577174591ba",
   "metadata": {},
   "outputs": [],
   "source": [
    "# Check the categories present in categorical columns (Indusrty)\n",
    "df_cat.Income_Level.value_counts()"
   ]
  },
  {
   "cell_type": "code",
   "execution_count": null,
   "id": "7b2b3c67-31b0-40e1-951d-310f15ded425",
   "metadata": {},
   "outputs": [],
   "source": [
    "# SHOW THE PLOT\n",
    "df_cat.Income_Level.value_counts().plot(kind = 'bar', color = 'magenta')\n",
    "plt.grid()\n",
    "plt.title('COUNT OF Income_Level')\n",
    "plt.ylabel('Count')\n",
    "plt.xticks(rotation=360)\n",
    "plt.show()"
   ]
  },
  {
   "cell_type": "markdown",
   "id": "cacbe8b5-47c6-4358-9a78-b3650ed03b31",
   "metadata": {},
   "source": [
    "**Interpretation**\n",
    " - By observing the graph we get to know that,\n",
    " - Low     1250\n",
    " - Medium  1050\n",
    " - High    150"
   ]
  },
  {
   "cell_type": "code",
   "execution_count": null,
   "id": "ac9b4aab-a4d0-46eb-8845-5ae6c10fa46d",
   "metadata": {},
   "outputs": [],
   "source": [
    "# SHOW THE COLUMNS\n",
    "df_cat.columns"
   ]
  },
  {
   "cell_type": "markdown",
   "id": "d142b0b6-62fe-4c20-a9ff-bbd87f2723c7",
   "metadata": {},
   "source": [
    "### Export_Region"
   ]
  },
  {
   "cell_type": "code",
   "execution_count": null,
   "id": "5a8c6978-47da-433d-931f-40719769247a",
   "metadata": {},
   "outputs": [],
   "source": [
    "# Check the categories present in categorical columns (Indusrty)\n",
    "df_cat.Export_Region.value_counts()"
   ]
  },
  {
   "cell_type": "code",
   "execution_count": null,
   "id": "6f3aff7b-def9-4647-b001-9a3b7e2ff21e",
   "metadata": {},
   "outputs": [],
   "source": [
    "# SHOW THE PLOT\n",
    "df_cat.Export_Region.value_counts().plot(kind = 'bar', color = 'magenta')\n",
    "plt.grid()\n",
    "plt.title('COUNT OF Export_Region')\n",
    "plt.ylabel('Count')\n",
    "plt.xticks(rotation=360)\n",
    "plt.show()"
   ]
  },
  {
   "cell_type": "markdown",
   "id": "5b2259fd-aff6-41d0-89fe-216e41ed0114",
   "metadata": {},
   "source": [
    "**Interpretation**\n",
    " - By observing the graph we get to know that,\n",
    " - Japan         119\n",
    " - Middle East   115\n",
    " - Latin America 110\n",
    " - Others        105"
   ]
  },
  {
   "cell_type": "code",
   "execution_count": null,
   "id": "e578c056-eca9-4c01-ac29-2132459faf45",
   "metadata": {},
   "outputs": [],
   "source": [
    "# SHOW THE COLUMNS\n",
    "df_cat.columns"
   ]
  },
  {
   "cell_type": "markdown",
   "id": "99bfa64b-3d01-4463-bb6c-65c92b02827d",
   "metadata": {},
   "source": [
    "### Fuel_Type"
   ]
  },
  {
   "cell_type": "code",
   "execution_count": null,
   "id": "9235e4a8-b020-4fe6-b39d-01ea0c25ea2d",
   "metadata": {},
   "outputs": [],
   "source": [
    "# Check the categories present in categorical columns (Indusrty)\n",
    "df_cat.Fuel_Type.value_counts()"
   ]
  },
  {
   "cell_type": "code",
   "execution_count": null,
   "id": "569dcf17-a0eb-4fdc-af37-6e76bfe5f4ce",
   "metadata": {},
   "outputs": [],
   "source": [
    "# SHOW THE PLOT\n",
    "df_cat.Fuel_Type.value_counts().plot(kind = 'bar', color = 'magenta')\n",
    "plt.grid()\n",
    "plt.title('COUNT OF Fuel_Type')\n",
    "plt.ylabel('Count')\n",
    "plt.xticks(rotation=360)\n",
    "plt.show()"
   ]
  },
  {
   "cell_type": "markdown",
   "id": "b2b6293a-f5a9-4e10-9a02-1de197ec4033",
   "metadata": {},
   "source": [
    "**Interpretation**\n",
    " - By observing the graph we get to know that,\n",
    " - Petrol   1300\n",
    " - Diesel   610\n",
    " - Electric 290\n",
    " - Hybrid   205"
   ]
  },
  {
   "cell_type": "code",
   "execution_count": null,
   "id": "ccb03db7-2abd-4928-9c2b-0d831957b378",
   "metadata": {},
   "outputs": [],
   "source": [
    "# SHOW THE COLUMNS\n",
    "df_cat.columns"
   ]
  },
  {
   "cell_type": "markdown",
   "id": "9714d1a5-791e-429c-8b20-9a2834375921",
   "metadata": {},
   "source": [
    "### Emission_Norm"
   ]
  },
  {
   "cell_type": "code",
   "execution_count": null,
   "id": "e28e4462-801b-47b5-bbd7-92f4c3dfb206",
   "metadata": {},
   "outputs": [],
   "source": [
    "# Check the categories present in categorical columns (Indusrty)\n",
    "df_cat.Emission_Norm.value_counts()"
   ]
  },
  {
   "cell_type": "code",
   "execution_count": null,
   "id": "fcd854fa-e211-4f4b-beb3-6c7d4f9f118c",
   "metadata": {},
   "outputs": [],
   "source": [
    "# SHOW THE PLOT\n",
    "df_cat.Emission_Norm.value_counts().plot(kind = 'bar', color = 'magenta')\n",
    "plt.grid()\n",
    "plt.title('COUNT OF Emission_Norm')\n",
    "plt.ylabel('Count')\n",
    "plt.xticks(rotation=360)\n",
    "plt.show()"
   ]
  },
  {
   "cell_type": "markdown",
   "id": "edb7293d-e68d-41dd-a471-e2683ddac0bd",
   "metadata": {},
   "source": [
    "**Interpretation**\n",
    " - By observing the graph we get to know that,\n",
    " - BS6 2400\n",
    " - BS4 50"
   ]
  },
  {
   "cell_type": "code",
   "execution_count": null,
   "id": "c34072fa-6451-466c-ac5e-bd0b51a34d5d",
   "metadata": {},
   "outputs": [],
   "source": [
    "# SHOW THE COLUMNS\n",
    "df_cat.columns"
   ]
  },
  {
   "cell_type": "markdown",
   "id": "c903ccd9-35f4-4fb2-99f6-c236a8d47a60",
   "metadata": {},
   "source": [
    "### Vehicle_Model"
   ]
  },
  {
   "cell_type": "code",
   "execution_count": null,
   "id": "ec86a38e-ee62-4c48-81ed-6baa2975143f",
   "metadata": {},
   "outputs": [],
   "source": [
    "# Check the categories present in categorical columns (Indusrty)\n",
    "df_cat.Vehicle_Model.value_counts()"
   ]
  },
  {
   "cell_type": "code",
   "execution_count": null,
   "id": "f74d9d2f-d5de-4964-902b-4c37756a11b3",
   "metadata": {},
   "outputs": [],
   "source": [
    "# Check how many unique customers there are and see sample IDs.\n",
    "print(\"Unique Vehicle_Type:\", df_india_vehicle_sales_q1_2025['Vehicle_Type'].nunique())\n",
    "print(\"Sample Vehicle_Type:\", df_india_vehicle_sales_q1_2025['Vehicle_Type'].head().tolist())"
   ]
  },
  {
   "cell_type": "code",
   "execution_count": null,
   "id": "d0b481ff-cf2c-4acc-b11d-ec41ce81aa34",
   "metadata": {},
   "outputs": [],
   "source": [
    "# SHOW THE PLOT\n",
    "df_cat.Vehicle_Model.value_counts().plot(kind = 'bar', color = 'magenta')\n",
    "plt.grid()\n",
    "plt.title('COUNT OF Vehicle_Model')\n",
    "plt.ylabel('Count')\n",
    "plt.xticks(rotation=80)\n",
    "plt.show()"
   ]
  },
  {
   "cell_type": "markdown",
   "id": "90d4371d-b29b-42f8-8abc-f05e59c1305b",
   "metadata": {},
   "source": [
    "## BIVARIATE ANALYSIS"
   ]
  },
  {
   "cell_type": "code",
   "execution_count": null,
   "id": "f7719fa4-5944-4eba-9625-ddde878cc552",
   "metadata": {},
   "outputs": [],
   "source": [
    "# SHOW THE FIRST FIVE OBSERVATION OF THE MAIN DATA \n",
    "df_india_vehicle_sales_q1_2025.head()"
   ]
  },
  {
   "cell_type": "code",
   "execution_count": null,
   "id": "52096082-b872-4288-acfb-3ff536f060b8",
   "metadata": {},
   "outputs": [],
   "source": [
    "# FOR FINDING THE PAIRS WE NEED TO DRAW CORRELATION MATRIX\n",
    "df_num.corr()"
   ]
  },
  {
   "cell_type": "code",
   "execution_count": null,
   "id": "499e891d-7177-4982-8ec5-2e84af74cb2a",
   "metadata": {},
   "outputs": [],
   "source": [
    "df_num.columns"
   ]
  },
  {
   "cell_type": "code",
   "execution_count": null,
   "id": "3bf90b5c-d872-4638-a9b1-e43f29ab3138",
   "metadata": {},
   "outputs": [],
   "source": [
    "df_cat.columns"
   ]
  },
  {
   "cell_type": "markdown",
   "id": "dbc0f1d3-c9c4-434a-a8a3-a2ebf2f99bbe",
   "metadata": {},
   "source": [
    "## Bivariate Analysis On Two Numerical Columns"
   ]
  },
  {
   "cell_type": "markdown",
   "id": "9e1d99f2-1861-4b94-aadc-73f911ba0a69",
   "metadata": {},
   "source": [
    "### Sales_ID vs Sales_Volume"
   ]
  },
  {
   "cell_type": "code",
   "execution_count": null,
   "id": "7d9810b5-a3bb-44a4-a8d8-0d6cf182ccc4",
   "metadata": {},
   "outputs": [],
   "source": [
    "# PLOT A SCATTER PLOT BETWEEN Sales_ID vs Sales_Volume\n",
    "sns.scatterplot(data=df_india_vehicle_sales_q1_2025, x='Sales_ID', y='Sales_Volume')\n",
    "plt.title('Sales_ID vs Sales_Volume')\n",
    "plt.xlabel('Sales_ID')\n",
    "plt.ylabel('Sales_Volume')\n",
    "plt.show()"
   ]
  },
  {
   "cell_type": "markdown",
   "id": "643d9539-777c-41b7-a25a-b06124bfba10",
   "metadata": {},
   "source": [
    "**Interpretattion**\n",
    " - Scatter plot shows Sales_ID vs Sales_Value."
   ]
  },
  {
   "cell_type": "markdown",
   "id": "7368fb9f-3de4-4085-b7f5-f6583dd5bb5b",
   "metadata": {},
   "source": [
    "## Bivariatre Analysis On One Numerical and One Categorical Columns"
   ]
  },
  {
   "cell_type": "markdown",
   "id": "f57db969-2e0d-42f6-be30-4c6676f7b521",
   "metadata": {},
   "source": [
    "### Monsoon_Index vs Customer_Type "
   ]
  },
  {
   "cell_type": "code",
   "execution_count": null,
   "id": "bd1b89f7-1587-4f9e-b1fe-d8f3e9f728df",
   "metadata": {},
   "outputs": [],
   "source": [
    "# PLOT A SCATTER PLOT BETWEEN Monsoon_Index vs Price_Range\n",
    "sns.boxplot(data=df_india_vehicle_sales_q1_2025, x='Price_Range', y='Monsoon_Index')\n",
    "plt.title('Monsoon_Index by Price_Range')\n",
    "plt.xlabel('Price_Range')\n",
    "plt.ylabel('Monsoon_Index')\n",
    "plt.show()"
   ]
  },
  {
   "cell_type": "markdown",
   "id": "dd2d5665-f8dc-446b-b9a4-b94cd8a149de",
   "metadata": {},
   "source": [
    "**Interpretattion**\n",
    " - Box plot shows Monsoon_Index by Price_Range"
   ]
  },
  {
   "cell_type": "markdown",
   "id": "549d93c5-fda7-4cf9-8a77-263e78b765af",
   "metadata": {},
   "source": [
    "### Repo_Rate vs Income_Level "
   ]
  },
  {
   "cell_type": "code",
   "execution_count": null,
   "id": "29b69993-9f16-4c40-a2a6-67609b70e2d9",
   "metadata": {},
   "outputs": [],
   "source": [
    "# PLOT A SCATTER PLOT BETWEEN Repo_Rate vs Delivery_Type \n",
    "sns.boxplot(data=df_india_vehicle_sales_q1_2025, x='Income_Level', y='Repo_Rate')\n",
    "plt.title('Repo_Rate by Income_Level')\n",
    "plt.xlabel('Income_Level')\n",
    "plt.ylabel('Repo_Rate')\n",
    "plt.show()"
   ]
  },
  {
   "cell_type": "markdown",
   "id": "f0fcc1a8-7481-4854-a707-5f01e3037a49",
   "metadata": {},
   "source": [
    "**Interpretattion**\n",
    " - Box plot shows Repo_Rate by Income_Level"
   ]
  },
  {
   "cell_type": "markdown",
   "id": "d0a610f6-421b-4649-8abf-0ef4e0741cf0",
   "metadata": {},
   "source": [
    "### Discount_Percentage vs Price_Range"
   ]
  },
  {
   "cell_type": "code",
   "execution_count": null,
   "id": "3a8a0fe4-f084-4497-bd91-d919d76bbe6f",
   "metadata": {},
   "outputs": [],
   "source": [
    "# PLOT A SCATTER PLOT BETWEEN Discount_Percentage vs Price_Range \n",
    "sns.countplot(data=df_india_vehicle_sales_q1_2025, x='Price_Range', hue='Discount_Percentage')\n",
    "plt.title('Returns by Price_Range')\n",
    "plt.xlabel('Price_Range')\n",
    "plt.ylabel('Discount_Percentage')\n",
    "plt.xticks(rotation=360)\n",
    "plt.show()"
   ]
  },
  {
   "cell_type": "markdown",
   "id": "64aa2649-0c0c-4aa7-bf1c-2a7144737c42",
   "metadata": {},
   "source": [
    "**Interpretattion**\n",
    " - Stacked bar plot shows Returns by Price_Range"
   ]
  },
  {
   "cell_type": "markdown",
   "id": "01a93c60-3d6d-47d7-aac7-60a280eb1bbb",
   "metadata": {},
   "source": [
    "## MULTIVARITAE ANAYLSIS - Correlation Matrix"
   ]
  },
  {
   "cell_type": "code",
   "execution_count": null,
   "id": "172da4ca-184d-4203-b544-1f04e2addb65",
   "metadata": {},
   "outputs": [],
   "source": [
    "# Check how numerical columns (e.g., Delivery_Time, Order_Value) relate to each other.\n",
    "numerical_cols = ['Sales_ID', 'Sales_Volume', 'Monsoon_Index', 'Repo_Rate',\n",
    "       'Inventory_Days', 'Discount_Percentage', 'Consumer_Sentiment']\n",
    "plt.figure(figsize=(10, 8))\n",
    "sns.heatmap(df_india_vehicle_sales_q1_2025[numerical_cols].corr(), annot=True, cmap='coolwarm')\n",
    "plt.title('Correlation Between Numbers')\n",
    "plt.show()"
   ]
  },
  {
   "cell_type": "markdown",
   "id": "979ed13d-8e4a-4df6-b607-b97a8b591972",
   "metadata": {},
   "source": [
    "**Interpretation**\n",
    " - Heatmap shows numbers from -1 to 1."
   ]
  },
  {
   "cell_type": "code",
   "execution_count": null,
   "id": "c4145b2f-a1c9-4c0e-96b3-4034afbdcf40",
   "metadata": {},
   "outputs": [],
   "source": [
    "df_num.columns"
   ]
  },
  {
   "cell_type": "code",
   "execution_count": null,
   "id": "8fdc2992-ccce-4270-95b0-810b832a3d24",
   "metadata": {},
   "outputs": [],
   "source": [
    "df_cat.columns"
   ]
  },
  {
   "cell_type": "markdown",
   "id": "11a7a38b-4c41-4215-bb9e-533a50ad9a49",
   "metadata": {},
   "source": [
    "### Monsoon_Index by Region and Platform"
   ]
  },
  {
   "cell_type": "code",
   "execution_count": null,
   "id": "35bbc869-61c7-4aa7-b0ad-8dfed2d5096c",
   "metadata": {},
   "outputs": [],
   "source": [
    "# See how Monsoon_Index changes by Region and Price_Range\n",
    "sns.boxplot(data=df_india_vehicle_sales_q1_2025, x='Region', y='Monsoon_Index', hue='Price_Range')\n",
    "plt.title('Monsoon_Index by Region and Price_Range')\n",
    "plt.xlabel('Region')\n",
    "plt.ylabel('Monsoon_Index')\n",
    "plt.xticks(rotation=360)\n",
    "plt.legend(bbox_to_anchor=(1.05, 1), loc='upper left')\n",
    "plt.tight_layout()\n",
    "plt.show()"
   ]
  },
  {
   "cell_type": "markdown",
   "id": "c7059470-3380-4c0a-9a33-c79995337c85",
   "metadata": {},
   "source": [
    "**Interpretation**\n",
    " - Box plot shows Monsoon_Index by Region and Price_Range\n"
   ]
  },
  {
   "cell_type": "markdown",
   "id": "2d98b900-eb84-478f-896a-20423a129871",
   "metadata": {},
   "source": [
    "# Target Variable"
   ]
  },
  {
   "cell_type": "code",
   "execution_count": null,
   "id": "f1124d32-e396-4fd4-8e44-c6a380055e31",
   "metadata": {},
   "outputs": [],
   "source": [
    "df_india_vehicle_sales_q1_2025.head()"
   ]
  },
  {
   "cell_type": "code",
   "execution_count": null,
   "id": "d8ae7ae7-b092-4ad2-bb57-6766d6b523fa",
   "metadata": {},
   "outputs": [],
   "source": [
    "# After discussion we decided to take salary as our target variable (Depentdent variable)\n",
    "target = df_india_vehicle_sales_q1_2025.Monsoon_Index\n",
    "\n",
    "# After storing this variable into target we have to remove it from the main dataframe (Indepentdent variable)\n",
    "df_india_vehicle_sales_q1_2025 = df_india_vehicle_sales_q1_2025.drop('Monsoon_Index', axis = 1 )"
   ]
  },
  {
   "cell_type": "markdown",
   "id": "d55513ad-ee81-4acc-aeff-b10ab447b56e",
   "metadata": {},
   "source": [
    "## Prepare the Data for Machine Learning"
   ]
  },
  {
   "cell_type": "markdown",
   "id": "c4ce8d89-e719-4a08-a098-1f2722ce6fd6",
   "metadata": {},
   "source": [
    "### Perform Encoding on categorical columns"
   ]
  },
  {
   "cell_type": "code",
   "execution_count": null,
   "id": "e4d59336-8894-49f4-8e2a-0fe34f9aecfa",
   "metadata": {},
   "outputs": [],
   "source": [
    "# Perform encoding(One Hot Encoding) \n",
    "df_encoded = pd.get_dummies(df_cat)"
   ]
  },
  {
   "cell_type": "code",
   "execution_count": null,
   "id": "0058963e-e64f-48ca-a353-fa3a00c70f20",
   "metadata": {},
   "outputs": [],
   "source": [
    "# Check the encoded data \n",
    "df_encoded.head()"
   ]
  },
  {
   "cell_type": "code",
   "execution_count": null,
   "id": "fc4606ca-10cc-4277-aac7-f2bdd0c9884f",
   "metadata": {},
   "outputs": [],
   "source": [
    "# Chech the dataframe to decide a target variable\n",
    "df_india_vehicle_sales_q1_2025.head()"
   ]
  },
  {
   "cell_type": "code",
   "execution_count": null,
   "id": "670bca89-dca4-4f11-817c-93426de300ce",
   "metadata": {},
   "outputs": [],
   "source": [
    "# After discussion we decided to take salary as our target variable (Depentdent variable)\n",
    "target = df_india_vehicle_sales_q1_2025.Sales_Volume\t\n",
    "\n",
    "# After storing this variable into target we have to remove it from the main dataframe (Indepentdent variable)\n",
    "df_india_vehicle_sales_q1_2025 = df_india_vehicle_sales_q1_2025.drop('Sales_Volume\t', axis = 1 )"
   ]
  },
  {
   "cell_type": "code",
   "execution_count": null,
   "id": "fe03b3be-bb5a-41ff-a6f5-c89742ef3ec9",
   "metadata": {},
   "outputs": [],
   "source": [
    "#Step 1: Sedregate the data based on data type\n",
    "df_num = df_indian_non_metro_jobs_dataset.select_dtypes(include = 'number')\n",
    "\n",
    "#Step 2: Make the seperate dataframe for catgorical columns \n",
    "df_cat = df_indian_non_metro_jobs_dataset.select_dtypes(include = 'object')"
   ]
  },
  {
   "cell_type": "markdown",
   "id": "fccb13a0-7e75-4ae0-afeb-eeef8ccbc45f",
   "metadata": {},
   "source": [
    "### Scale the numerical variables "
   ]
  },
  {
   "cell_type": "code",
   "execution_count": null,
   "id": "9815e28b-3c1e-432f-9c79-da352be5b96d",
   "metadata": {},
   "outputs": [],
   "source": [
    "# Import standart scaler-sub package of performing the scaling\n",
    "from sklearn.preprocessing import StandardScaler "
   ]
  },
  {
   "cell_type": "code",
   "execution_count": null,
   "id": "74a61519-a239-4839-9490-31e66d33a58c",
   "metadata": {},
   "outputs": [],
   "source": [
    "# Inciate the Standard Scaler \n",
    "ss = StandardScaler()"
   ]
  },
  {
   "cell_type": "code",
   "execution_count": null,
   "id": "bb06f491-7882-4c16-bc47-c6a07247d956",
   "metadata": {},
   "outputs": [],
   "source": [
    "# Transfor the numerical variables \n",
    "scale = ss.fit_transform(df_num)\n",
    "\n",
    "\n",
    "# Space check tranform data\n",
    "scale"
   ]
  },
  {
   "cell_type": "code",
   "execution_count": null,
   "id": "37830a91-fa95-4def-9910-7a27bab4f45a",
   "metadata": {},
   "outputs": [],
   "source": [
    "# Create a new dataframe for scaled data\n",
    "df_scale = pd.DataFrame(scale,columns=df_num.columns)"
   ]
  },
  {
   "cell_type": "code",
   "execution_count": null,
   "id": "25014eee-9eb0-4a84-87ed-6bd3a8be84b2",
   "metadata": {},
   "outputs": [],
   "source": [
    "# Check the scaled dataframe \n",
    "df_scale.head()"
   ]
  },
  {
   "cell_type": "markdown",
   "id": "2e7a8419-ad8d-423f-8a40-931c9b8c1557",
   "metadata": {},
   "source": [
    "### Concatenate both the encoded and scaled dataframe "
   ]
  },
  {
   "cell_type": "code",
   "execution_count": null,
   "id": "6ec081c2-c74a-45e2-add2-bcfaf04e932e",
   "metadata": {},
   "outputs": [],
   "source": [
    "# Do the concatenation \n",
    "X = pd.concat([df_encoded,df_scale] , axis=1)\n",
    "\n",
    "#Check the concatenated data\n",
    "X.head()"
   ]
  },
  {
   "cell_type": "markdown",
   "id": "727f91eb-1794-4f7f-a78e-219344973cd2",
   "metadata": {},
   "source": [
    "## Now split the data into Training seat and Testing set"
   ]
  },
  {
   "cell_type": "code",
   "execution_count": null,
   "id": "c37bbcb2-1006-41a3-b796-2db744c75299",
   "metadata": {},
   "outputs": [],
   "source": [
    "# Import the train test split\n",
    "from sklearn.model_selection import train_test_split"
   ]
  },
  {
   "cell_type": "code",
   "execution_count": null,
   "id": "2b27961e-3be2-4c52-b539-907606b54b0d",
   "metadata": {},
   "outputs": [],
   "source": [
    "# Verify shapes\n",
    "print(\"Shape of X:\", X.shape)\n",
    "print(\"Shape of target:\", target.shape)"
   ]
  },
  {
   "cell_type": "markdown",
   "id": "e699b36e-95ce-4ed8-8a3c-d077f82ed2d0",
   "metadata": {},
   "source": [
    "## Find the base Machine Learning Algorithm"
   ]
  },
  {
   "cell_type": "markdown",
   "id": "3fd550fc-e3ee-44ae-abb1-ae487995eb26",
   "metadata": {},
   "source": [
    "### Linear Regression"
   ]
  },
  {
   "cell_type": "code",
   "execution_count": null,
   "id": "6165761c-9041-41f5-a17b-bd4e22ead3d5",
   "metadata": {},
   "outputs": [],
   "source": [
    "# Import linear regression algorithm and evalutaion matrix \n",
    "from sklearn.linear_model import LinearRegression \n",
    "\n",
    "# Here we are using MSE as evaluation matrix\n",
    "from sklearn.metrics import mean_squared_error"
   ]
  },
  {
   "cell_type": "code",
   "execution_count": null,
   "id": "d6ad8796-753f-49ef-babc-a01ba314863e",
   "metadata": {},
   "outputs": [],
   "source": [
    "# Create a Linear Regression Model\n",
    "model = LinearRegression()"
   ]
  },
  {
   "cell_type": "code",
   "execution_count": null,
   "id": "d6db8037-68b9-439f-8fb1-209b57c27f3c",
   "metadata": {},
   "outputs": [],
   "source": [
    "# Fit the model to training data\n",
    "model.fit(X_train,y_train)"
   ]
  },
  {
   "cell_type": "code",
   "execution_count": null,
   "id": "401cd189-4852-418f-9520-df632b8f55da",
   "metadata": {},
   "outputs": [],
   "source": [
    "#Predict the testing data \n",
    "predicitions = model.predict(X_test)"
   ]
  },
  {
   "cell_type": "code",
   "execution_count": null,
   "id": "6d447f3d-4554-4afc-8af9-96fd28233f6d",
   "metadata": {},
   "outputs": [],
   "source": [
    "# Caluculate the mean squared error\n",
    "mse = mean_squared_error(y_test,predicitions)\n",
    "print(\"Mean squared Error\",mse)"
   ]
  },
  {
   "cell_type": "code",
   "execution_count": null,
   "id": "07c0d4ec-6b93-4f5d-b94f-423a044b847c",
   "metadata": {},
   "outputs": [],
   "source": [
    "### Rigid Model"
   ]
  },
  {
   "cell_type": "code",
   "execution_count": null,
   "id": "9a5ab804-ea57-4135-b642-162ab2eb80f3",
   "metadata": {},
   "outputs": [],
   "source": [
    "from sklearn.model_selection import train_test_split\n",
    "from sklearn.linear_model import Ridge\n",
    "from sklearn.metrics import mean_squared_error\n",
    "\n",
    "# Assuming X_train, X_test, y_train, y_test are already defined from train_test_split\n",
    "\n",
    "# Create a Ridge regression model\n",
    "ridge_model = Ridge(alpha=1.0)  # alpha is the regularization strength\n",
    "\n",
    "# Fit the model to the training data\n",
    "ridge_model.fit(X_train, y_train)\n",
    "\n",
    "# Predict on the testing data\n",
    "predictions = ridge_model.predict(X_test)\n",
    "\n",
    "# Calculate mean squared error\n",
    "mse = mean_squared_error(y_test, predictions)\n",
    "print(\"Mean Squared Error:\", mse)"
   ]
  },
  {
   "cell_type": "code",
   "execution_count": null,
   "id": "43a28825-459d-4828-8bb3-0cd59007d4cd",
   "metadata": {},
   "outputs": [],
   "source": [
    "### Lasso Model"
   ]
  },
  {
   "cell_type": "code",
   "execution_count": null,
   "id": "fae277b0-e908-4cd2-9661-406301a24fe0",
   "metadata": {},
   "outputs": [],
   "source": [
    "from sklearn.model_selection import train_test_split\n",
    "from sklearn.linear_model import Lasso\n",
    "from sklearn.metrics import mean_squared_error\n",
    "\n",
    "# Assuming X_train, X_test, y_train, y_test are already defined from train_test_split\n",
    "\n",
    "# Create a Lasso regression model\n",
    "lasso_model = Lasso(alpha=1.0)  # alpha is the regularization strength\n",
    "\n",
    "# Fit the model to the training data\n",
    "lasso_model.fit(X_train, y_train)\n",
    "\n",
    "# Predict on the testing data\n",
    "predictions = lasso_model.predict(X_test)\n",
    "\n",
    "# Calculate mean squared error\n",
    "mse = mean_squared_error(y_test, predictions)\n",
    "print(\"Mean Squared Error:\", mse)"
   ]
  },
  {
   "cell_type": "code",
   "execution_count": null,
   "id": "1ddaed66-a1c5-43c9-af01-4b0b601cf5e5",
   "metadata": {},
   "outputs": [],
   "source": [
    "### Decision tree model"
   ]
  },
  {
   "cell_type": "code",
   "execution_count": null,
   "id": "9c70edfe-8e70-497c-ac98-cd7efae61858",
   "metadata": {},
   "outputs": [],
   "source": [
    "from sklearn.model_selection import train_test_split\n",
    "from sklearn.tree import DecisionTreeRegressor\n",
    "from sklearn.metrics import mean_squared_error\n",
    "\n",
    "# Assuming X_train, X_test, y_train, y_test are already defined from train_test_split\n",
    "\n",
    "# Create a Decision Tree regression model\n",
    "tree_model = DecisionTreeRegressor()\n",
    "\n",
    "# Fit the model to the training data\n",
    "tree_model.fit(X_train, y_train)\n",
    "\n",
    "# Predict on the testing data\n",
    "predictions = tree_model.predict(X_test)\n",
    "\n",
    "# Calculate mean squared error\n",
    "mse = mean_squared_error(y_test, predictions)\n",
    "print(\"Mean Squared Error:\", mse)"
   ]
  },
  {
   "cell_type": "code",
   "execution_count": null,
   "id": "d88daf62-db4b-4e86-9737-184eacd54418",
   "metadata": {},
   "outputs": [],
   "source": [
    "### Random forest regressor"
   ]
  },
  {
   "cell_type": "code",
   "execution_count": null,
   "id": "0e7f2281-fc65-48da-80e4-9e05c322e082",
   "metadata": {},
   "outputs": [],
   "source": [
    "from sklearn.model_selection import train_test_split\n",
    "from sklearn.ensemble import RandomForestRegressor\n",
    "from sklearn.metrics import mean_squared_error\n",
    "\n",
    "# Assuming X_train, X_test, y_train, y_test are already defined from train_test_split\n",
    "\n",
    "# Create a Random Forest regression model\n",
    "forest_model = RandomForestRegressor(n_estimators=100, random_state=42)\n",
    "\n",
    "# Fit the model to the training data\n",
    "forest_model.fit(X_train, y_train)\n",
    "\n",
    "# Predict on the testing data\n",
    "predictions = forest_model.predict(X_test)\n",
    "\n",
    "# Calculate mean squared error\n",
    "mse = mean_squared_error(y_test, predictions)\n",
    "print(\"Mean Squared Error:\", mse)"
   ]
  },
  {
   "cell_type": "code",
   "execution_count": null,
   "id": "8dfc54a9-1677-476a-a8a0-f44b904b7339",
   "metadata": {},
   "outputs": [],
   "source": [
    "### SVR"
   ]
  },
  {
   "cell_type": "code",
   "execution_count": null,
   "id": "1f03a3f8-ed7d-4eb1-adbf-6588b8b9e7cc",
   "metadata": {},
   "outputs": [],
   "source": [
    "from sklearn.model_selection import GridSearchCV\n",
    "from sklearn.ensemble import RandomForestRegressor\n",
    "from sklearn.preprocessing import LabelEncoder\n",
    "from sklearn.metrics import r2_score\n",
    "\n",
    "# Define the Random Forest model\n",
    "rf = RandomForestRegressor(random_state=42)\n",
    "\n",
    "# Define the hyperparameter grid\n",
    "param_grid = {\n",
    "    'n_estimators': [100, 200, 300],\n",
    "    'max_depth': [10, 20, 30, None],\n",
    "    'min_samples_split': [2, 5, 10],\n",
    "    'min_samples_leaf': [1, 2, 4],\n",
    "    'max_features': ['auto', 'sqrt', 'log2']\n",
    "}\n",
    "\n",
    "# Perform GridSearchCV for hyperparameter tuning\n",
    "grid_search = GridSearchCV(estimator=rf, param_grid=param_grid, \n",
    "                           cv=5, scoring='neg_mean_squared_error', \n",
    "                           n_jobs=-1, verbose=2)\n",
    "\n",
    "# Fit the model\n",
    "grid_search.fit(X_train, y_train)\n",
    "\n",
    "# Get the best parameters and model\n",
    "best_params = grid_search.best_params_\n",
    "best_rf = grid_search.best_estimator_\n",
    "\n",
    "# Predict on the test set\n",
    "y_pred = best_rf.predict(X_test)\n",
    "\n",
    "# Evaluate the model\n",
    "mse = mean_squared_error(y_test, y_pred)\n",
    "r2 = r2_score(y_test, y_pred)\n",
    "\n",
    "print(\"Best Hyperparameters:\", best_params)\n",
    "print(\"Test MSE:\", mse)\n",
    "print(\"Test R²:\", r2)\n",
    "\n",
    "# Feature importance\n",
    "feature_importance = pd.DataFrame({\n",
    "    'Feature': X.columns,\n",
    "    'Importance': best_rf.feature_importances_\n",
    "}).sort_values(by='Importance', ascending=False)\n",
    "\n",
    "print(\"\\nFeature Importance:\")\n",
    "print(feature_importance)"
   ]
  },
  {
   "cell_type": "code",
   "execution_count": null,
   "id": "3b0cb745-6467-4bd4-9c50-6963d6d40b52",
   "metadata": {},
   "outputs": [],
   "source": [
    "from sklearn.model_selection import KFold\n",
    "# Set up k-fold cross-validation (e.g., k=5)\n",
    "k = 5\n",
    "kf = KFold(n_splits=k, shuffle=True, random_state=42)\n",
    "\n",
    "# Lists to store metrics for each fold\n",
    "mse_scores = []\n",
    "r2_scores = []\n",
    "\n",
    "# Perform k-fold cross-validation\n",
    "for fold, (train_index, test_index) in enumerate(kf.split(X), 1):\n",
    "    # Split data into training and test sets for this fold\n",
    "    X_train, X_test = X_train.iloc[train_index], X_train.iloc[test_index]\n",
    "    y_train, y_test = y_train.iloc[train_index], y_train.iloc[test_index]\n",
    "\n",
    "    # Train the model\n",
    "    rf.fit(X_train, y_train)\n",
    "\n",
    "    # Predict on the test set\n",
    "    y_pred = rf.predict(X_test)\n",
    "\n",
    "    # Calculate metrics\n",
    "    mse = mean_squared_error(y_test, y_pred)\n",
    "    r2 = r2_score(y_test, y_pred)\n",
    "\n",
    "    # Store metrics\n",
    "    mse_scores.append(mse)\n",
    "    r2_scores.append(r2)\n",
    "\n",
    "    print(f\"Fold {fold} - MSE: {mse:.2f}, R²: {r2:.4f}\")\n",
    "\n",
    "# Calculate mean and standard deviation of metrics\n",
    "mean_mse = np.mean(mse_scores)\n",
    "std_mse = np.std(mse_scores)\n",
    "mean_r2 = np.mean(r2_scores)\n",
    "std_r2 = np.std(r2_scores)\n",
    "\n",
    "print(\"\\nK-Fold Cross-Validation Results (k={})\".format(k))\n",
    "print(f\"Mean MSE: {mean_mse:.2f} (± {std_mse:.2f})\")\n",
    "print(f\"Mean R²: {mean_r2:.4f} (± {std_r2:.4f})\")\n",
    "\n",
    "# Train the model on the full dataset to get feature importance\n",
    "rf.fit(X, y)\n",
    "feature_importance = pd.DataFrame({\n",
    "    'Feature': X.columns,\n",
    "    'Importance': rf.feature_importances_\n",
    "}).sort_values(by='Importance', ascending=False)\n",
    "\n",
    "print(\"\\nFeature Importance:\")\n",
    "print(feature_importance)"
   ]
  },
  {
   "cell_type": "code",
   "execution_count": null,
   "id": "c5bdb8d2-b8a0-4789-9367-8e363197d093",
   "metadata": {},
   "outputs": [],
   "source": [
    "### Feature selaction for base algorithem"
   ]
  },
  {
   "cell_type": "code",
   "execution_count": null,
   "id": "9e8fe77d-41c0-4df2-b577-06b1f3fc5335",
   "metadata": {},
   "outputs": [],
   "source": [
    "from sklearn.ensemble import RandomForestRegressor\n",
    "from sklearn.feature_selection import RFE\n",
    "from sklearn.metrics import mean_squared_error, r2_score\n",
    "\n",
    "# Step 1: Initialize the model\n",
    "rf_model = RandomForestRegressor(random_state=42)\n",
    "\n",
    "# Step 2: Set up RFE\n",
    "# You can specify the number of features to select (e.g., 5 or len(X_train.columns)//2)\n",
    "n_features_to_select = 100  # Change as needed\n",
    "rfe = RFE(estimator=rf_model, n_features_to_select=n_features_to_select)\n",
    "\n",
    "# Step 3: Fit RFE on training data\n",
    "rfe.fit(X_train, y_train)\n",
    "\n",
    "# Step 4: Get selected features\n",
    "selected_features = X_train.columns[rfe.support_]\n",
    "print(\"Selected Features:\", list(selected_features))\n",
    "\n",
    "# Step 5: Train model on selected features\n",
    "rf_model.fit(X_train[selected_features], y_train)\n",
    "\n",
    "# Step 6: Predict on test set using selected features\n",
    "y_pred = rf_model.predict(X_test[selected_features])\n",
    "\n",
    "# Step 7: Evaluate\n",
    "mse = mean_squared_error(y_test, y_pred)\n",
    "r2 = r2_score(y_test, y_pred)\n",
    "\n",
    "print(\"Mean Squared Error:\", mse)\n",
    "print(\"R^2 Score:\", r2)"
   ]
  },
  {
   "cell_type": "code",
   "execution_count": null,
   "id": "c0d4f24a-26cd-48f3-9968-f38a5330d3a7",
   "metadata": {},
   "outputs": [],
   "source": [
    "import joblib\n",
    "\n",
    "#Assuming 'rf' is your trained model\n",
    "joblib.dump(rf,'model.pkl')"
   ]
  },
  {
   "cell_type": "code",
   "execution_count": null,
   "id": "6a39f932-7024-4f5f-93ce-9971dd4fae29",
   "metadata": {},
   "outputs": [],
   "source": [
    "import streamlit as st\n",
    "import joblib\n",
    "import numpy as np\n",
    "\n",
    "# Load the trained model\n",
    "model = joblib.load('model.pkl')\n",
    "\n",
    "st.title(\"Random Forest Regression Predictor\")\n",
    "\n",
    "# Example: Assume you need 10 features as input\n",
    "inputs = []\n",
    "for i in range(100):\n",
    "    val = st.number_input(f\"Feature {i+1}\", value=0.0)\n",
    "    inputs.append(val)\n",
    "\n",
    "if st.button(\"Predict\"):\n",
    "    prediction = model.predict([inputs])\n",
    "    st.success(f\"Predicted Output: {prediction[0]}\")"
   ]
  },
  {
   "cell_type": "code",
   "execution_count": null,
   "id": "2ee02b82-1ffd-42e3-ac0d-87e84f28fcd3",
   "metadata": {},
   "outputs": [],
   "source": []
  }
 ],
 "metadata": {
  "kernelspec": {
   "display_name": "Python [conda env:anaconda3]",
   "language": "python",
   "name": "conda-env-anaconda3-py"
  },
  "language_info": {
   "codemirror_mode": {
    "name": "ipython",
    "version": 3
   },
   "file_extension": ".py",
   "mimetype": "text/x-python",
   "name": "python",
   "nbconvert_exporter": "python",
   "pygments_lexer": "ipython3",
   "version": "3.12.7"
  }
 },
 "nbformat": 4,
 "nbformat_minor": 5
}
